{
 "cells": [
  {
   "cell_type": "code",
   "execution_count": 1,
   "metadata": {
    "scrolled": true
   },
   "outputs": [],
   "source": [
    "#coding=utf-8\n",
    "#读取数据\n",
    "import  pandas as pd\n",
    "import numpy as np\n",
    "import scipy as sp\n",
    "\n",
    "train_data = pd.read_csv('./data/public.train.csv')\n",
    "test_data = pd.read_csv('./data/public.test.csv')\n",
    "submit = pd.read_csv('./data/submit_example.csv')\n",
    "y = train_data['发电量']\n",
    "X = train_data.drop(['ID','发电量'], axis=1)\n"
   ]
  },
  {
   "cell_type": "markdown",
   "metadata": {},
   "source": [
    "### train数据 头信息，信息描述"
   ]
  },
  {
   "cell_type": "code",
   "execution_count": 2,
   "metadata": {},
   "outputs": [],
   "source": [
    "#train_data.head()"
   ]
  },
  {
   "cell_type": "code",
   "execution_count": 3,
   "metadata": {},
   "outputs": [],
   "source": [
    "#train_data.info()"
   ]
  },
  {
   "cell_type": "code",
   "execution_count": 4,
   "metadata": {},
   "outputs": [],
   "source": [
    "#train_data.describe()"
   ]
  },
  {
   "cell_type": "markdown",
   "metadata": {},
   "source": [
    "### test 数据 头信息，信息描述"
   ]
  },
  {
   "cell_type": "code",
   "execution_count": 177,
   "metadata": {},
   "outputs": [],
   "source": [
    "#test_data.head()"
   ]
  },
  {
   "cell_type": "code",
   "execution_count": 178,
   "metadata": {},
   "outputs": [],
   "source": [
    "#test_data.info()"
   ]
  },
  {
   "cell_type": "code",
   "execution_count": 179,
   "metadata": {},
   "outputs": [],
   "source": [
    "#test_data.describe()"
   ]
  },
  {
   "cell_type": "markdown",
   "metadata": {},
   "source": [
    "### submit 文件展示"
   ]
  },
  {
   "cell_type": "code",
   "execution_count": 8,
   "metadata": {},
   "outputs": [],
   "source": [
    "#submit.head()"
   ]
  },
  {
   "cell_type": "code",
   "execution_count": 16,
   "metadata": {},
   "outputs": [
    {
     "data": {
      "text/plain": [
       "Index(['ID', '板温', '现场温度', '光照强度', '转换效率', '转换效率A', '转换效率B', '转换效率C', '电压A',\n",
       "       '电压B', '电压C', '电流A', '电流B', '电流C', '功率A', '功率B', '功率C', '平均功率', '风速',\n",
       "       '风向', '发电量'],\n",
       "      dtype='object')"
      ]
     },
     "execution_count": 16,
     "metadata": {},
     "output_type": "execute_result"
    }
   ],
   "source": [
    "train_data.columns"
   ]
  },
  {
   "cell_type": "markdown",
   "metadata": {},
   "source": [
    "### 最初的版本 2018年7月25日 模仿葡萄酒项目的代码"
   ]
  },
  {
   "cell_type": "code",
   "execution_count": 118,
   "metadata": {
    "scrolled": true
   },
   "outputs": [
    {
     "name": "stdout",
     "output_type": "stream",
     "text": [
      "0.9982909055049781\n",
      "0.020765103696203973\n",
      "0.9796573142821857\n"
     ]
    }
   ],
   "source": [
    "# 2. Import libraries and modules\n",
    "import numpy as np\n",
    "import pandas as pd\n",
    " \n",
    "from sklearn.model_selection import train_test_split\n",
    "from sklearn import preprocessing\n",
    "from sklearn.ensemble import RandomForestRegressor\n",
    "from sklearn.pipeline import make_pipeline\n",
    "from sklearn.model_selection import GridSearchCV\n",
    "from sklearn.metrics import mean_squared_error, r2_score\n",
    "from sklearn.externals import joblib \n",
    " \n",
    "# 3. Load red wine data.\n",
    "# dataset_url = 'http://mlr.cs.umass.edu/ml/machine-learning-databases/wine-quality/winequality-red.csv'\n",
    "# data = pd.read_csv(dataset_url, sep=';')\n",
    "\n",
    "train_data = pd.read_csv('./data/public.train.csv')\n",
    "test_data = pd.read_csv('./data/public.test.csv')\n",
    "# 筛选重要性大于0.03的特征\n",
    "# # train_data = train_data[\"电流A\",\"功率A\",\"平均功率\",\"电流C\",\"功率C\",\"功率B\",\"电流B\",\"光照强度\",\"板温\",\"转换效率A\",\"转换效率\"]\n",
    "# train_data = train_data.loc[:,['ID','电流A','功率A','平均功率','电流C','功率C','功率B','电流B','光照强度','板温','转换效率A','转换效率','发电量']] \n",
    "# test_data = test_data.loc[:,['ID','电流A','功率A','平均功率','电流C','功率C','功率B','电流B','光照强度','板温','转换效率A','转换效率']] \n",
    "\n",
    "# 4. Split data into training and test sets\n",
    "y = train_data['发电量']\n",
    "X = train_data.drop(['发电量','ID'], axis=1)\n",
    "X_train, X_test, y_train, y_test = train_test_split(X, y, \n",
    "                                                    test_size=0.3, \n",
    "                                                    random_state=123, \n",
    "                                                   )\n",
    " \n",
    "# 5. Declare data preprocessing steps\n",
    "pipeline = make_pipeline(preprocessing.StandardScaler(), \n",
    "                         RandomForestRegressor(n_estimators=120))\n",
    " \n",
    "# 6. Declare hyperparameters to tune\n",
    "hyperparameters = { 'randomforestregressor__max_features' : ['sqrt'],\n",
    "                  'randomforestregressor__max_depth': [None]}\n",
    "# hyperparameters = { 'randomforestregressor__max_features' : ['auto', 'sqrt', 'log2'],\n",
    "#                   'randomforestregressor__max_depth': [None, 5, 3, 1]} \n",
    "# 7. Tune model using cross-validation pipeline\n",
    "clf = GridSearchCV(pipeline, hyperparameters, cv=10)\n",
    " \n",
    "clf.fit(X_train, y_train)\n",
    " \n",
    "# 8. Refit on the entire training set\n",
    "# No additional code needed if clf.refit == True (default is True)\n",
    " \n",
    "# 9. Evaluate model pipeline on test data\n",
    "pred = clf.predict(X_test)\n",
    "print (r2_score(y_test, pred))\n",
    "print (mean_squared_error(y_test, pred))\n",
    "rmse = mean_squared_error(y_test, pred)\n",
    "score = np.divide(1,1+rmse)\n",
    "print(score)\n",
    "# 10. Save model for future use\n",
    "# joblib.dump(clf, 'rf_regressor.pkl')\n",
    "# To load: clf2 = joblib.load('rf_regressor.pkl')"
   ]
  },
  {
   "cell_type": "markdown",
   "metadata": {},
   "source": [
    "## 用70%数据进行训练，30%数据进行测试"
   ]
  },
  {
   "cell_type": "code",
   "execution_count": 181,
   "metadata": {},
   "outputs": [
    {
     "name": "stdout",
     "output_type": "stream",
     "text": [
      "r2_score: 0.9982953670805557\n",
      "mean_squared_error: 0.020710896582562935\n",
      "score: 0.9797093411543808\n"
     ]
    }
   ],
   "source": [
    "import numpy as np\n",
    "import pandas as pd\n",
    "from sklearn.model_selection import train_test_split\n",
    "from sklearn import preprocessing\n",
    "from sklearn.ensemble import RandomForestRegressor\n",
    "from sklearn.pipeline import make_pipeline\n",
    "from sklearn.model_selection import GridSearchCV\n",
    "from sklearn.metrics import mean_squared_error, r2_score\n",
    "from sklearn.externals import joblib \n",
    "\n",
    "train_data = pd.read_csv('./data/public.train.csv')\n",
    "test_data = pd.read_csv('./data/public.test.csv')\n",
    "\n",
    "#  Split data into training and test sets\n",
    "y = train_data['发电量']\n",
    "X = train_data.drop(['发电量','ID'], axis=1)\n",
    "X_train, X_test, y_train, y_test = train_test_split(X, y, \n",
    "                                                    test_size=0.3, \n",
    "                                                    random_state=123, \n",
    "                                                   )\n",
    "pipeline = make_pipeline(preprocessing.StandardScaler(), \n",
    "                         RandomForestRegressor(n_estimators=70))\n",
    "hyperparameters = { 'randomforestregressor__max_features' : ['sqrt'],\n",
    "                  'randomforestregressor__max_depth': [None]}\n",
    "clf = GridSearchCV(pipeline, hyperparameters, cv=10)\n",
    "clf.fit(X_train, y_train)\n",
    "#  predict and score\n",
    "pred = clf.predict(X_test)\n",
    "print (\"r2_score:\",r2_score(y_test, pred))\n",
    "print (\"mean_squared_error:\",mean_squared_error(y_test, pred))\n",
    "rmse = mean_squared_error(y_test, pred)\n",
    "score = np.divide(1,1+rmse)\n",
    "print(\"score:\",score)"
   ]
  },
  {
   "cell_type": "markdown",
   "metadata": {},
   "source": [
    "## 把全部的数据进行训练"
   ]
  },
  {
   "cell_type": "code",
   "execution_count": 176,
   "metadata": {},
   "outputs": [
    {
     "name": "stdout",
     "output_type": "stream",
     "text": [
      "done\n"
     ]
    }
   ],
   "source": [
    "# 2. Import libraries and modules\n",
    "import numpy as np\n",
    "import pandas as pd\n",
    "from sklearn.model_selection import train_test_split\n",
    "from sklearn import preprocessing\n",
    "from sklearn.ensemble import RandomForestRegressor\n",
    "from sklearn.pipeline import make_pipeline\n",
    "from sklearn.model_selection import GridSearchCV\n",
    "from sklearn.metrics import mean_squared_error, r2_score\n",
    "from sklearn.externals import joblib \n",
    "\n",
    "train_data = pd.read_csv('./data/public.train.csv')\n",
    "test_data = pd.read_csv('./data/public.test.csv')\n",
    "\n",
    "# 4. Split data into training and test sets\n",
    "y = train_data['发电量']\n",
    "X = train_data.drop(['发电量','ID'], axis=1) \n",
    "clf = RandomForestRegressor(n_estimators=70,max_features=\"sqrt\",max_depth=None)                          \n",
    "clf.fit(X, y)\n",
    "\n",
    "df_result = pd.DataFrame()\n",
    "df_result['ID'] = list(test_data['ID'])\n",
    "test_feature = test_data.drop('ID', axis=1)\n",
    "pre = clf.predict(test_feature)\n",
    "df_result['Score'] = pre\n",
    "df_result.to_csv('result/submit_7_29_21_25.csv', index=False, header=False, float_format='%.8f')\n",
    "print('done')"
   ]
  },
  {
   "cell_type": "markdown",
   "metadata": {},
   "source": [
    "## 存储模型"
   ]
  },
  {
   "cell_type": "code",
   "execution_count": 183,
   "metadata": {},
   "outputs": [],
   "source": [
    "# clf = joblib.dump(clf, 'model_save/rf_regressor_7_29_21_15.pkl')\n",
    "\n",
    "# df_result = pd.DataFrame()\n",
    "# df_result['ID'] = list(test_data['ID'])\n",
    "# test_feature = test_data.drop('ID', axis=1)\n",
    "# pre = clf.predict(test_feature)\n",
    "\n",
    "# df_result['Score'] = pre\n",
    "# df_result.to_csv('result/submit_7_29_21_15.csv', index=False, header=False, float_format='%.8f')\n"
   ]
  },
  {
   "cell_type": "markdown",
   "metadata": {},
   "source": [
    "## 调参过程 发现 n_estimators = 70 效果最好"
   ]
  },
  {
   "cell_type": "code",
   "execution_count": 168,
   "metadata": {},
   "outputs": [
    {
     "name": "stdout",
     "output_type": "stream",
     "text": [
      "mean_squared_error: 0.021167794248658774\n",
      "score: 0.9792709931042887\n",
      "time used 0 s\n",
      "--------------n_estimators=20------done---------------\n",
      "mean_squared_error: 0.021434761624916733\n",
      "score: 0.9790150458646837\n",
      "time used 0 s\n",
      "--------------n_estimators=30------done---------------\n",
      "mean_squared_error: 0.02104546733031643\n",
      "score: 0.979388315208584\n",
      "time used 0 s\n",
      "--------------n_estimators=40------done---------------\n",
      "mean_squared_error: 0.01997257585768881\n",
      "score: 0.9804185168009111\n",
      "time used 0 s\n",
      "--------------n_estimators=50------done---------------\n",
      "mean_squared_error: 0.020059550529242628\n",
      "score: 0.980334922094661\n",
      "time used 0 s\n",
      "--------------n_estimators=60------done---------------\n",
      "mean_squared_error: 0.019264161154720558\n",
      "score: 0.9810999327859263\n",
      "time used 0 s\n",
      "--------------n_estimators=70------done---------------\n",
      "mean_squared_error: 0.019365792813375124\n",
      "score: 0.9810021162668929\n",
      "time used 1 s\n",
      "--------------n_estimators=80------done---------------\n",
      "mean_squared_error: 0.0193578212362632\n",
      "score: 0.9810097878949059\n",
      "time used 1 s\n",
      "--------------n_estimators=90------done---------------\n",
      "mean_squared_error: 0.019457489249304474\n",
      "score: 0.9809138787497336\n",
      "time used 1 s\n",
      "--------------n_estimators=100------done---------------\n",
      "mean_squared_error: 0.01949559381345599\n",
      "score: 0.9808772162118601\n",
      "time used 1 s\n",
      "--------------n_estimators=110------done---------------\n",
      "mean_squared_error: 0.01994557873922346\n",
      "score: 0.9804444676706392\n",
      "time used 1 s\n",
      "--------------n_estimators=120------done---------------\n",
      "mean_squared_error: 0.02019775232655073\n",
      "score: 0.9802021203433453\n",
      "time used 1 s\n",
      "--------------n_estimators=130------done---------------\n",
      "mean_squared_error: 0.020054993524052548\n",
      "score: 0.9803393016539557\n",
      "time used 1 s\n",
      "--------------n_estimators=140------done---------------\n",
      "mean_squared_error: 0.020227232218093315\n",
      "score: 0.9801737969941098\n",
      "time used 2 s\n",
      "--------------n_estimators=150------done---------------\n",
      "mean_squared_error: 0.020204774888778084\n",
      "score: 0.9801953731387104\n",
      "time used 2 s\n",
      "--------------n_estimators=160------done---------------\n",
      "mean_squared_error: 0.01983847867730823\n",
      "score: 0.9805474307038915\n",
      "time used 2 s\n",
      "--------------n_estimators=200------done---------------\n",
      "everything has done\n"
     ]
    },
    {
     "data": {
      "image/png": "[encoded data removed]",
      "text/plain": [
       "<Figure size 432x288 with 1 Axes>"
      ]
     },
     "metadata": {},
     "output_type": "display_data"
    }
   ],
   "source": [
    "# 2. Import libraries and modules\n",
    "import numpy as np\n",
    "import pandas as pd\n",
    "from sklearn.model_selection import train_test_split\n",
    "from sklearn import preprocessing\n",
    "from sklearn.ensemble import RandomForestRegressor\n",
    "from sklearn.pipeline import make_pipeline\n",
    "from sklearn.model_selection import GridSearchCV\n",
    "from sklearn.metrics import mean_squared_error, r2_score\n",
    "from sklearn.externals import joblib \n",
    "import time\n",
    "import matplotlib.pyplot as plt\n",
    "\n",
    "train_data = pd.read_csv('./data/public.train.csv')\n",
    "test_data = pd.read_csv('./data/public.test.csv')\n",
    "\n",
    "# 4. Split data into training and test sets\n",
    "y = train_data['发电量']\n",
    "X = train_data.drop(['发电量','ID'], axis=1)\n",
    "X_train, X_test, y_train, y_test = train_test_split(X, y, \n",
    "                                                    test_size=0.3, \n",
    "                                                    random_state=123, \n",
    "                                                   )\n",
    "\n",
    "\n",
    "# clf = RandomForestClassifier(n_estimators= 10 ,\n",
    "#                                  random_state=0,\n",
    "#                                  max_depth=None,\n",
    "#                                  max_features=sqrt)\n",
    "scores = []\n",
    "# for nt in [10, 20, 40, 80, 120, 160, 200, 300, 400, 500, 600, 700, 800]:\n",
    "for nt in [20, 30, 40, 50, 60, 70, 80, 90, 100, 110, 120, 130, 140, 150, 160, 200]:\n",
    "    t1 = time.time()\n",
    "    forest = RandomForestRegressor(n_estimators=nt, random_state=123, max_features='sqrt',max_depth=None)\n",
    "    forest.fit(X_train, y_train)\n",
    "    pred = forest.predict(X_test)    \n",
    "    print (\"mean_squared_error:\",mean_squared_error(y_test, pred))\n",
    "    rmse = mean_squared_error(y_test, pred)\n",
    "    score = np.divide(1,1+rmse)\n",
    "    scores.append(score)\n",
    "    print(\"score:\",score)\n",
    "    t2 = time.time() \n",
    "    print('time used %d s' % (t2-t1))\n",
    "    print(\"--------------n_estimators=%d------done---------------\"% nt)\n",
    "print('everything has done')\n",
    "\n",
    "x1 = np.arange(16) \n",
    "y1 = scores\n",
    "plt.plot(x1,y1,label='Frist line',linewidth=3,color='r',marker='o', \n",
    "markerfacecolor='blue',markersize=12) \n",
    "# plt.plot(x2,y2,label='second line') \n",
    "# plt.xlabel('Plot Number') \n",
    "# plt.ylabel('Important var') \n",
    "# plt.title('Interesting Graph\\nCheck it out') \n",
    "# plt.legend() \n",
    "plt.show() \n"
   ]
  },
  {
   "cell_type": "markdown",
   "metadata": {},
   "source": [
    "### 将test_data的训练数据输入模型，计算出结果，并保存"
   ]
  },
  {
   "cell_type": "code",
   "execution_count": 8,
   "metadata": {},
   "outputs": [],
   "source": [
    "clf = joblib.load(\"rf_regressor.pkl\")\n",
    "\n",
    "df_result = pd.DataFrame()\n",
    "df_result['ID'] = list(test_data['ID'])\n",
    "test_feature = test_data.drop('ID', axis=1)\n",
    "pre = clf.predict(test_feature)\n",
    "\n",
    "df_result['Score'] = pre\n",
    "df_result.to_csv('result/submit.csv', index=False, header=False, float_format='%.8f')\n"
   ]
  },
  {
   "cell_type": "markdown",
   "metadata": {},
   "source": [
    "测试输出的结果\n",
    "\n",
    "0.9979879496067704\n",
    "\n",
    "0.024322814919608308\n",
    "\n",
    "['rf_regressor.pkl']\n"
   ]
  },
  {
   "cell_type": "code",
   "execution_count": null,
   "metadata": {},
   "outputs": [],
   "source": [
    "# 判断重复数据\n",
    "isDuplicated = df.duplicated() # 判断重复数据记录\n",
    "print (isDuplicated) # 打印输出\n",
    "\n",
    "# 删除重复值\n",
    "new_df1 = df.drop_duplicates() # 删除数据记录中所有列值相同的记录\n",
    "new_df2 = df.drop_duplicates(['col1']) # 删除数据记录中col1值相同的记录\n",
    "new_df3 = df.drop_duplicates(['col2']) # 删除数据记录中col2值相同的记录\n",
    "new_df4 = df.drop_duplicates(['col1', 'col2']) # 删除数据记录中指定列（col1/col2）值相同的记录\n",
    "print (new_df1) # 打印输出\n",
    "print (new_df2) # 打印输出\n",
    "print (new_df3) # 打印输出\n",
    "print (new_df4) # 打印输出"
   ]
  },
  {
   "cell_type": "code",
   "execution_count": null,
   "metadata": {},
   "outputs": [],
   "source": [
    "train_data.drop_duplicates(train_data.columns.drop('ID'), keep='first', inplace=True) #McDonald"
   ]
  },
  {
   "cell_type": "markdown",
   "metadata": {},
   "source": [
    "## 2018年7月28号晚上23点34分 modle 完整版"
   ]
  },
  {
   "cell_type": "code",
   "execution_count": 111,
   "metadata": {},
   "outputs": [
    {
     "data": {
      "text/plain": [
       "array([1.06645131e-02, 4.47887309e-04, 3.61908551e-02, 3.09656819e-03,\n",
       "       1.07584981e-03, 2.30645960e-03, 9.23041097e-04, 1.86623157e-03,\n",
       "       2.30417062e-03, 1.28445588e-03, 1.63790599e-01, 5.30509387e-02,\n",
       "       7.25319486e-02, 2.26361024e-01, 1.06291955e-01, 9.99480855e-02,\n",
       "       2.17377339e-01, 1.94059916e-04, 2.94018985e-04])"
      ]
     },
     "execution_count": 111,
     "metadata": {},
     "output_type": "execute_result"
    }
   ],
   "source": [
    "from sklearn.preprocessing import StandardScaler\n",
    "from sklearn.decomposition import PCA\n",
    "from sklearn.linear_model import LogisticRegression\n",
    "\n",
    "from sklearn.pipeline import Pipeline\n",
    "import numpy as np\n",
    "import pandas as pd\n",
    " \n",
    "from sklearn.model_selection import train_test_split\n",
    "from sklearn import preprocessing\n",
    "from sklearn.ensemble import RandomForestRegressor\n",
    "from sklearn.pipeline import make_pipeline\n",
    "from sklearn.model_selection import GridSearchCV\n",
    "from sklearn.metrics import mean_squared_error, r2_score\n",
    "from sklearn.externals import joblib \n",
    "from sklearn.metrics import mean_squared_error\n",
    "# 3. Load red wine data.\n",
    "# dataset_url = 'http://mlr.cs.umass.edu/ml/machine-learning-databases/wine-quality/winequality-red.csv'\n",
    "# data = pd.read_csv(dataset_url, sep=';')\n",
    "\n",
    "train_data = pd.read_csv('./data/public.train.csv')\n",
    "test_data = pd.read_csv('./data/public.test.csv')\n",
    "submit = pd.read_csv('./data/submit_example.csv') \n",
    "\n",
    "\n",
    "# [\"电流A\",\"功率A\",\"平均功率\",\"电流C\",\"功率C\",\"功率B\",\"电流B\",\"光照强度\",\"板温\",\"转换效率A\",\"转换效率\"]\n",
    "\n",
    "# 数据预处理\n",
    "train_data.drop_duplicates(train_data.columns.drop('ID'), keep='first', inplace=True) #McDonald\n",
    "\n",
    "# 4. Split data into training and test sets\n",
    "y = train_data['发电量']\n",
    "X = train_data.drop(['ID','发电量'], axis=1)\n",
    "X_train, X_test, y_train, y_test = train_test_split(X, y, \n",
    "                                                    test_size=0.3, \n",
    "                                                    random_state=123, \n",
    "                                                   )\n",
    "clf = RandomForestRegressor(n_estimators=100,n_jobs=-1,max_features=\"sqrt\",max_depth=None)\n",
    "# clf = Pipeline([('sc', StandardScaler()),\n",
    "#                     ('pca', PCA(n_components=15)),\n",
    "#                     ('clf', RandomForestRegressor(n_estimators=100,n_jobs=-1,max_features=\"sqrt\",max_depth=None))\n",
    "#                     ])\n",
    "# clf = Pipeline([\n",
    "#                     ('clf', RandomForestRegressor(n_estimators=100,n_jobs=-1,max_features=\"sqrt\",max_depth=None))\n",
    "#                     ])\n",
    "clf.fit(X_train, y_train)\n",
    "# 输出 feature_importances_\n",
    "# importances = clf.feature_importances_.reshape(1,19)\n",
    "# print(importances)\n",
    "# indices = np.argsort(importances)[::-1]\n",
    "# print(indices)\n",
    "# 特征重要程度 feature_importances_  源代码链接 https://blog.csdn.net/zjuPeco/article/details/77371645\n",
    "columns = ['板温', '现场温度', '光照强度', '转换效率', '转换效率A', '转换效率B', '转换效率C', '电压A', '电压B',\n",
    "       '电压C', '电流A', '电流B', '电流C', '功率A', '功率B', '功率C', '平均功率', '风速', '风向']\n",
    "importances = clf.feature_importances_\n",
    "importances\n",
    "\n",
    "\n",
    "# 3. Load red wine data.\n",
    "# dataset_url = 'http://mlr.cs.umass.edu/ml/machine-learning-databases/wine-quality/winequality-red.csv'\n",
    "# data = pd.read_csv(dataset_url, sep=';')\n",
    "\n",
    "train_data = pd.read_csv('./data/public.train.csv')\n",
    "test_data = pd.read_csv('./data/public.test.csv')\n",
    "# 筛选重要性大于0.03的特征\n",
    "# # train_data = train_data[\"电流A\",\"功率A\",\"平均功率\",\"电流C\",\"功率C\",\"功率B\",\"电流B\",\"光照强度\",\"板温\",\"转换效率A\",\"转换效率\"]\n",
    "# train_data = train_data.loc[:,['ID','电流A','功率A','平均功率','电流C','功率C','功率B','电流B','光照强度','板温','转换效率A','转换效率','发电量']] \n",
    "# test_data = test_data.loc[:,['ID','电流A','功率A','平均功率','电流C','功率C','功率B','电流B','光照强度','板温','转换效率A','转换效率']] \n",
    "\n",
    "# 4. Split data into training and test sets\n",
    "y = train_data['发电量']\n",
    "X = train_data.drop(['发电量','ID'], axis=1)\n",
    "X_train, X_test, y_train, y_test = train_test_split(X, y, \n",
    "                                                    test_size=0.3, \n",
    "                                                    random_state=123, \n",
    "                                                   )\n",
    " \n",
    "# 5. Declare data preprocessing steps\n",
    "pipeline = make_pipeline(preprocessing.StandardScaler(), \n",
    "                         RandomForestRegressor(n_estimators=120,criterion='mse'))\n",
    " \n",
    "# 6. Declare hyperparameters to tune\n",
    "hyperparameters = { 'randomforestregressor__max_features' : ['sqrt'],\n",
    "                  'randomforestregressor__max_depth': [None]}\n",
    "# hyperparameters = { 'randomforestregressor__max_features' : ['auto', 'sqrt', 'log2'],\n",
    "#                   'randomforestregressor__max_depth': [None, 5, 3, 1]} \n",
    "# 7. Tune model using cross-validation pipeline\n",
    "clf = GridSearchCV(pipeline, hyperparameters, cv=10)\n",
    " \n",
    "clf.fit(X_train, y_train)\n",
    " \n",
    "# 8. Refit on the entire training set\n",
    "# No additional code needed if clf.refit == True (default is True)\n",
    " \n",
    "# 9. Evaluate model pipeline on test data\n",
    "pred = clf.predict(X_test)\n",
    "print (r2_score(y_test, pred))\n",
    "print (mean_squared_error(y_test, pred))\n",
    "rmse = mean_squared_error(y_test, pred)\n",
    "score = np.divide(1,1+rmse)\n",
    "print(score)\n",
    "# 10. Save model for future use\n",
    "# joblib.dump(clf, 'rf_regressor.pkl')\n",
    "# To load: clf2 = joblib.load('rf_regressor.pkl')"
   ]
  },
  {
   "cell_type": "markdown",
   "metadata": {},
   "source": [
    "## 特征重要程度进行排列"
   ]
  },
  {
   "cell_type": "code",
   "execution_count": 109,
   "metadata": {},
   "outputs": [
    {
     "data": {
      "text/plain": [
       "array([0.008287  , 0.00038528, 0.05253667, 0.00356549, 0.00731454,\n",
       "       0.00140389, 0.00100807, 0.0009825 , 0.00273996, 0.00244518,\n",
       "       0.20587684, 0.07147384, 0.05500201, 0.23034094, 0.07401908,\n",
       "       0.13295327, 0.14905549, 0.00030832, 0.00030163])"
      ]
     },
     "execution_count": 109,
     "metadata": {},
     "output_type": "execute_result"
    }
   ],
   "source": [
    "# 特征重要程度 feature_importances_  源代码链接 https://blog.csdn.net/zjuPeco/article/details/77371645\n",
    "columns = ['板温', '现场温度', '光照强度', '转换效率', '转换效率A', '转换效率B', '转换效率C', '电压A', '电压B',\n",
    "       '电压C', '电流A', '电流B', '电流C', '功率A', '功率B', '功率C', '平均功率', '风速', '风向']\n",
    "importances = clf.feature_importances_\n",
    "importances"
   ]
  },
  {
   "cell_type": "code",
   "execution_count": 73,
   "metadata": {},
   "outputs": [
    {
     "name": "stdout",
     "output_type": "stream",
     "text": [
      " 1) 电流A                            0.211348\n",
      " 2) 功率A                            0.211118\n",
      " 3) 平均功率                           0.175730\n",
      " 4) 电流C                            0.114936\n",
      " 5) 功率C                            0.096128\n",
      " 6) 功率B                            0.075545\n",
      " 7) 电流B                            0.064544\n",
      " 8) 光照强度                           0.024749\n",
      " 9) 板温                             0.008515\n",
      "10) 转换效率A                          0.005944\n",
      "11) 转换效率                           0.003134\n",
      "12) 电压C                            0.002280\n",
      "13) 电压B                            0.001547\n",
      "14) 电压A                            0.001366\n",
      "15) 转换效率B                          0.001059\n",
      "16) 转换效率C                          0.001048\n",
      "17) 现场温度                           0.000474\n",
      "18) 风向                             0.000274\n",
      "19) 风速                             0.000258\n"
     ]
    }
   ],
   "source": [
    "# 特征重要程度 feature_importances_  源代码链接 https://blog.csdn.net/zjuPeco/article/details/77371645\n",
    "columns = ['板温', '现场温度', '光照强度', '转换效率', '转换效率A', '转换效率B', '转换效率C', '电压A', '电压B',\n",
    "       '电压C', '电流A', '电流B', '电流C', '功率A', '功率B', '功率C', '平均功率', '风速', '风向']\n",
    "importances = clf.feature_importances_\n",
    "indices = np.argsort(importances)[::-1]\n",
    "for f in range(X_train.shape[1]):\n",
    "    print(\"%2d) %-*s %f\" % (f + 1, 30, columns[indices[f]], importances[indices[f]]))"
   ]
  },
  {
   "cell_type": "code",
   "execution_count": null,
   "metadata": {},
   "outputs": [],
   "source": []
  },
  {
   "cell_type": "markdown",
   "metadata": {},
   "source": [
    " ## 保存 模型 和 结果"
   ]
  },
  {
   "cell_type": "code",
   "execution_count": null,
   "metadata": {},
   "outputs": [],
   "source": [
    "y_pred = clf.predict(X_test)\n",
    "print(\"mean_squared_error:\",mean_squared_error(y_pred, y_test))\n",
    "\n",
    "#10. Save model for future use\n",
    "joblib.dump(clf, './model_save/rf_regressor_7_29_10_12.pkl')\n",
    "\n",
    "#predict and get result\n",
    "\n",
    "df_result = pd.DataFrame()\n",
    "df_result['ID'] = list(test_data['ID'])\n",
    "test_feature = test_data.drop('ID', axis=1)\n",
    "pre = clf.predict(test_feature)\n",
    "\n",
    "df_result['Score'] = pre\n",
    "df_result.to_csv('result/submit_7_29_10_12.csv', index=False, header=False, float_format='%.8f')\n",
    "print('done')"
   ]
  },
  {
   "cell_type": "code",
   "execution_count": null,
   "metadata": {},
   "outputs": [],
   "source": [
    "mean_squared_error: 0.019680305533484464 #加入McDonald的去重复数据"
   ]
  },
  {
   "cell_type": "code",
   "execution_count": null,
   "metadata": {},
   "outputs": [],
   "source": [
    "mean_squared_error: 0.023065020042139842"
   ]
  },
  {
   "cell_type": "markdown",
   "metadata": {},
   "source": [
    "### 纯RandomForestRegressor 无标准化\n",
    "0.02040348248160798\n",
    "```\n",
    "clf = RandomForestRegressor(n_estimators=100,n_jobs=-1,max_features=\"sqrt\",max_depth=None)\n",
    "```"
   ]
  },
  {
   "cell_type": "markdown",
   "metadata": {},
   "source": [
    "### 没有pca的代码\n",
    "0.022231228381953298\n",
    "```\n",
    "clf = Pipeline([('sc', StandardScaler()),\n",
    "#                     ('pca', PCA(n_components=15)),\n",
    "                    ('clf', RandomForestRegressor(n_estimators=100,n_jobs=-1,max_features=\"sqrt\",max_depth=None))\n",
    "                    ])\n",
    "```"
   ]
  },
  {
   "cell_type": "markdown",
   "metadata": {},
   "source": [
    "### 标准化+PCA_15+RandomForestRegressor\n",
    "0.05047384637691991 \n",
    "```\n",
    "clf = Pipeline([('sc', StandardScaler()),\n",
    "                    ('pca', PCA(n_components=15)),\n",
    "                    ('clf', RandomForestRegressor(n_estimators=100,n_jobs=-1,max_features=\"sqrt\",max_depth=None))\n",
    "                    ])\n",
    "```"
   ]
  },
  {
   "cell_type": "markdown",
   "metadata": {},
   "source": [
    "clf.best_params_\n",
    "\n",
    "{'randomforestregressor__max_depth': None, 'randomforestregressor__max_features': 'sqrt'}\n"
   ]
  }
 ],
 "metadata": {
  "kernelspec": {
   "display_name": "Python 3",
   "language": "python",
   "name": "python3"
  },
  "language_info": {
   "codemirror_mode": {
    "name": "ipython",
    "version": 3
   },
   "file_extension": ".py",
   "mimetype": "text/x-python",
   "name": "python",
   "nbconvert_exporter": "python",
   "pygments_lexer": "ipython3",
   "version": "3.6.4"
  }
 },
 "nbformat": 4,
 "nbformat_minor": 2
}
