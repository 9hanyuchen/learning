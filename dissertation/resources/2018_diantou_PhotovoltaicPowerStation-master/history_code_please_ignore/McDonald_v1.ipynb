{
 "cells": [
  {
   "cell_type": "code",
   "execution_count": 1,
   "metadata": {},
   "outputs": [
    {
     "name": "stderr",
     "output_type": "stream",
     "text": [
      "/Users/ljj/anaconda/envs/python3env/lib/python3.6/site-packages/sklearn/cross_validation.py:41: DeprecationWarning: This module was deprecated in version 0.18 in favor of the model_selection module into which all the refactored classes and functions are moved. Also note that the interface of the new CV iterators are different from that of this module. This module will be removed in 0.20.\n",
      "  \"This module will be removed in 0.20.\", DeprecationWarning)\n"
     ]
    }
   ],
   "source": [
    "import numpy as np\n",
    "import pandas as pd\n",
    " \n",
    "from sklearn.model_selection import train_test_split\n",
    "from sklearn import preprocessing\n",
    "from sklearn.ensemble import RandomForestRegressor\n",
    "from sklearn.pipeline import make_pipeline\n",
    "from sklearn.model_selection import GridSearchCV\n",
    "from sklearn.metrics import mean_squared_error, r2_score\n",
    "from sklearn.externals import joblib \n",
    "from sklearn.ensemble import GradientBoostingRegressor\n",
    "from sklearn.feature_selection import SelectFromModel\n",
    "from sklearn.decomposition import PCA\n",
    "from sklearn.cross_validation import cross_val_score\n",
    "import matplotlib.pyplot as plt\n",
    "import xgboost as xgb\n",
    "from lightgbm import LGBMRegressor\n",
    "import math\n",
    "%matplotlib inline"
   ]
  },
  {
   "cell_type": "code",
   "execution_count": 2,
   "metadata": {
    "scrolled": true
   },
   "outputs": [
    {
     "name": "stdout",
     "output_type": "stream",
     "text": [
      "height has been deprecated.\n",
      "\n"
     ]
    }
   ],
   "source": [
    "pd.set_option('display.max_colwidth',1000)\n",
    "pd.set_option('display.height',1000)\n",
    "pd.set_option('display.max_rows',500)\n",
    "pd.set_option('display.max_columns',500)\n",
    "pd.set_option('display.width',1000)"
   ]
  },
  {
   "cell_type": "code",
   "execution_count": 3,
   "metadata": {
    "collapsed": true
   },
   "outputs": [],
   "source": [
    "train_data = pd.read_csv('./public.train.csv')\n",
    "test_data = pd.read_csv('./public.test.csv')\n",
    "submit = pd.read_csv('./submit_example.csv') "
   ]
  },
  {
   "cell_type": "code",
   "execution_count": 4,
   "metadata": {
    "scrolled": true
   },
   "outputs": [
    {
     "data": {
      "text/html": [
       "<div>\n",
       "<style>\n",
       "    .dataframe thead tr:only-child th {\n",
       "        text-align: right;\n",
       "    }\n",
       "\n",
       "    .dataframe thead th {\n",
       "        text-align: left;\n",
       "    }\n",
       "\n",
       "    .dataframe tbody tr th {\n",
       "        vertical-align: top;\n",
       "    }\n",
       "</style>\n",
       "<table border=\"1\" class=\"dataframe\">\n",
       "  <thead>\n",
       "    <tr style=\"text-align: right;\">\n",
       "      <th></th>\n",
       "      <th>ID</th>\n",
       "      <th>板温</th>\n",
       "      <th>现场温度</th>\n",
       "      <th>光照强度</th>\n",
       "      <th>转换效率</th>\n",
       "      <th>转换效率A</th>\n",
       "      <th>转换效率B</th>\n",
       "      <th>转换效率C</th>\n",
       "      <th>电压A</th>\n",
       "      <th>电压B</th>\n",
       "      <th>电压C</th>\n",
       "      <th>电流A</th>\n",
       "      <th>电流B</th>\n",
       "      <th>电流C</th>\n",
       "      <th>功率A</th>\n",
       "      <th>功率B</th>\n",
       "      <th>功率C</th>\n",
       "      <th>平均功率</th>\n",
       "      <th>风速</th>\n",
       "      <th>风向</th>\n",
       "      <th>发电量</th>\n",
       "    </tr>\n",
       "  </thead>\n",
       "  <tbody>\n",
       "    <tr>\n",
       "      <th>count</th>\n",
       "      <td>9000.000000</td>\n",
       "      <td>9000.000000</td>\n",
       "      <td>9000.000000</td>\n",
       "      <td>9000.000000</td>\n",
       "      <td>9000.000000</td>\n",
       "      <td>9000.000000</td>\n",
       "      <td>9000.000000</td>\n",
       "      <td>9000.000000</td>\n",
       "      <td>9000.000000</td>\n",
       "      <td>9000.000000</td>\n",
       "      <td>9000.000000</td>\n",
       "      <td>9000.000000</td>\n",
       "      <td>9000.000000</td>\n",
       "      <td>9000.000000</td>\n",
       "      <td>9000.000000</td>\n",
       "      <td>9000.000000</td>\n",
       "      <td>9000.000000</td>\n",
       "      <td>9000.000000</td>\n",
       "      <td>9000.000000</td>\n",
       "      <td>9000.000000</td>\n",
       "      <td>9000.000000</td>\n",
       "    </tr>\n",
       "    <tr>\n",
       "      <th>mean</th>\n",
       "      <td>9062.866444</td>\n",
       "      <td>6.703914</td>\n",
       "      <td>-0.629456</td>\n",
       "      <td>339.890222</td>\n",
       "      <td>64.077781</td>\n",
       "      <td>52.906926</td>\n",
       "      <td>84.416487</td>\n",
       "      <td>54.909988</td>\n",
       "      <td>717.852444</td>\n",
       "      <td>722.317556</td>\n",
       "      <td>700.171889</td>\n",
       "      <td>4.124878</td>\n",
       "      <td>4.647638</td>\n",
       "      <td>4.633024</td>\n",
       "      <td>3118.110127</td>\n",
       "      <td>3168.251196</td>\n",
       "      <td>3057.906246</td>\n",
       "      <td>3114.755833</td>\n",
       "      <td>2.356078</td>\n",
       "      <td>221.298556</td>\n",
       "      <td>5.695245</td>\n",
       "    </tr>\n",
       "    <tr>\n",
       "      <th>std</th>\n",
       "      <td>5114.232566</td>\n",
       "      <td>11.742366</td>\n",
       "      <td>67.430126</td>\n",
       "      <td>220.132765</td>\n",
       "      <td>807.424850</td>\n",
       "      <td>606.060373</td>\n",
       "      <td>2191.630414</td>\n",
       "      <td>705.950654</td>\n",
       "      <td>1931.338424</td>\n",
       "      <td>2048.559736</td>\n",
       "      <td>1674.291659</td>\n",
       "      <td>2.570927</td>\n",
       "      <td>18.083549</td>\n",
       "      <td>16.656423</td>\n",
       "      <td>13715.886085</td>\n",
       "      <td>14213.778780</td>\n",
       "      <td>11674.064480</td>\n",
       "      <td>7754.250793</td>\n",
       "      <td>1.629720</td>\n",
       "      <td>97.887963</td>\n",
       "      <td>3.463744</td>\n",
       "    </tr>\n",
       "    <tr>\n",
       "      <th>min</th>\n",
       "      <td>10.000000</td>\n",
       "      <td>-24.790000</td>\n",
       "      <td>-6321.700000</td>\n",
       "      <td>0.000000</td>\n",
       "      <td>0.000000</td>\n",
       "      <td>0.000000</td>\n",
       "      <td>0.000000</td>\n",
       "      <td>0.000000</td>\n",
       "      <td>0.000000</td>\n",
       "      <td>0.000000</td>\n",
       "      <td>0.000000</td>\n",
       "      <td>0.000000</td>\n",
       "      <td>0.000000</td>\n",
       "      <td>0.000000</td>\n",
       "      <td>0.000000</td>\n",
       "      <td>0.000000</td>\n",
       "      <td>0.000000</td>\n",
       "      <td>0.000000</td>\n",
       "      <td>0.000000</td>\n",
       "      <td>0.000000</td>\n",
       "      <td>-0.125144</td>\n",
       "    </tr>\n",
       "    <tr>\n",
       "      <th>25%</th>\n",
       "      <td>4682.750000</td>\n",
       "      <td>-1.870000</td>\n",
       "      <td>-7.600000</td>\n",
       "      <td>153.000000</td>\n",
       "      <td>20.510000</td>\n",
       "      <td>20.460000</td>\n",
       "      <td>20.280000</td>\n",
       "      <td>20.580000</td>\n",
       "      <td>641.000000</td>\n",
       "      <td>638.000000</td>\n",
       "      <td>638.000000</td>\n",
       "      <td>1.740000</td>\n",
       "      <td>1.710000</td>\n",
       "      <td>1.800000</td>\n",
       "      <td>1192.230000</td>\n",
       "      <td>1159.305000</td>\n",
       "      <td>1223.982500</td>\n",
       "      <td>1219.855000</td>\n",
       "      <td>1.200000</td>\n",
       "      <td>152.000000</td>\n",
       "      <td>2.512812</td>\n",
       "    </tr>\n",
       "    <tr>\n",
       "      <th>50%</th>\n",
       "      <td>9083.500000</td>\n",
       "      <td>5.640000</td>\n",
       "      <td>-2.400000</td>\n",
       "      <td>314.000000</td>\n",
       "      <td>25.230000</td>\n",
       "      <td>25.020000</td>\n",
       "      <td>25.015000</td>\n",
       "      <td>25.390000</td>\n",
       "      <td>669.000000</td>\n",
       "      <td>666.000000</td>\n",
       "      <td>666.000000</td>\n",
       "      <td>4.050000</td>\n",
       "      <td>4.120000</td>\n",
       "      <td>4.110000</td>\n",
       "      <td>2730.210000</td>\n",
       "      <td>2774.940000</td>\n",
       "      <td>2768.760000</td>\n",
       "      <td>2762.200000</td>\n",
       "      <td>2.200000</td>\n",
       "      <td>269.000000</td>\n",
       "      <td>5.769032</td>\n",
       "    </tr>\n",
       "    <tr>\n",
       "      <th>75%</th>\n",
       "      <td>13470.000000</td>\n",
       "      <td>15.620000</td>\n",
       "      <td>8.100000</td>\n",
       "      <td>526.000000</td>\n",
       "      <td>37.190000</td>\n",
       "      <td>36.532500</td>\n",
       "      <td>36.972500</td>\n",
       "      <td>36.885000</td>\n",
       "      <td>689.000000</td>\n",
       "      <td>686.000000</td>\n",
       "      <td>686.000000</td>\n",
       "      <td>6.482500</td>\n",
       "      <td>6.530000</td>\n",
       "      <td>6.600000</td>\n",
       "      <td>4263.307500</td>\n",
       "      <td>4267.297500</td>\n",
       "      <td>4329.490000</td>\n",
       "      <td>4278.105000</td>\n",
       "      <td>3.300000</td>\n",
       "      <td>283.000000</td>\n",
       "      <td>8.896220</td>\n",
       "    </tr>\n",
       "    <tr>\n",
       "      <th>max</th>\n",
       "      <td>17876.000000</td>\n",
       "      <td>36.490000</td>\n",
       "      <td>78.700000</td>\n",
       "      <td>941.000000</td>\n",
       "      <td>60856.240000</td>\n",
       "      <td>27472.310000</td>\n",
       "      <td>178911.990000</td>\n",
       "      <td>41632.210000</td>\n",
       "      <td>65515.000000</td>\n",
       "      <td>65512.000000</td>\n",
       "      <td>65470.000000</td>\n",
       "      <td>9.430000</td>\n",
       "      <td>652.020000</td>\n",
       "      <td>647.620000</td>\n",
       "      <td>470096.580000</td>\n",
       "      <td>465945.500000</td>\n",
       "      <td>469844.840000</td>\n",
       "      <td>160151.370000</td>\n",
       "      <td>19.300000</td>\n",
       "      <td>672.000000</td>\n",
       "      <td>12.288756</td>\n",
       "    </tr>\n",
       "  </tbody>\n",
       "</table>\n",
       "</div>"
      ],
      "text/plain": [
       "                 ID           板温         现场温度         光照强度          转换效率         转换效率A          转换效率B         转换效率C           电压A           电压B           电压C          电流A          电流B          电流C            功率A            功率B            功率C           平均功率           风速           风向          发电量\n",
       "count   9000.000000  9000.000000  9000.000000  9000.000000   9000.000000   9000.000000    9000.000000   9000.000000   9000.000000   9000.000000   9000.000000  9000.000000  9000.000000  9000.000000    9000.000000    9000.000000    9000.000000    9000.000000  9000.000000  9000.000000  9000.000000\n",
       "mean    9062.866444     6.703914    -0.629456   339.890222     64.077781     52.906926      84.416487     54.909988    717.852444    722.317556    700.171889     4.124878     4.647638     4.633024    3118.110127    3168.251196    3057.906246    3114.755833     2.356078   221.298556     5.695245\n",
       "std     5114.232566    11.742366    67.430126   220.132765    807.424850    606.060373    2191.630414    705.950654   1931.338424   2048.559736   1674.291659     2.570927    18.083549    16.656423   13715.886085   14213.778780   11674.064480    7754.250793     1.629720    97.887963     3.463744\n",
       "min       10.000000   -24.790000 -6321.700000     0.000000      0.000000      0.000000       0.000000      0.000000      0.000000      0.000000      0.000000     0.000000     0.000000     0.000000       0.000000       0.000000       0.000000       0.000000     0.000000     0.000000    -0.125144\n",
       "25%     4682.750000    -1.870000    -7.600000   153.000000     20.510000     20.460000      20.280000     20.580000    641.000000    638.000000    638.000000     1.740000     1.710000     1.800000    1192.230000    1159.305000    1223.982500    1219.855000     1.200000   152.000000     2.512812\n",
       "50%     9083.500000     5.640000    -2.400000   314.000000     25.230000     25.020000      25.015000     25.390000    669.000000    666.000000    666.000000     4.050000     4.120000     4.110000    2730.210000    2774.940000    2768.760000    2762.200000     2.200000   269.000000     5.769032\n",
       "75%    13470.000000    15.620000     8.100000   526.000000     37.190000     36.532500      36.972500     36.885000    689.000000    686.000000    686.000000     6.482500     6.530000     6.600000    4263.307500    4267.297500    4329.490000    4278.105000     3.300000   283.000000     8.896220\n",
       "max    17876.000000    36.490000    78.700000   941.000000  60856.240000  27472.310000  178911.990000  41632.210000  65515.000000  65512.000000  65470.000000     9.430000   652.020000   647.620000  470096.580000  465945.500000  469844.840000  160151.370000    19.300000   672.000000    12.288756"
      ]
     },
     "execution_count": 4,
     "metadata": {},
     "output_type": "execute_result"
    }
   ],
   "source": [
    "train_data.describe()"
   ]
  },
  {
   "cell_type": "code",
   "execution_count": 5,
   "metadata": {},
   "outputs": [
    {
     "data": {
      "text/html": [
       "<div>\n",
       "<style>\n",
       "    .dataframe thead tr:only-child th {\n",
       "        text-align: right;\n",
       "    }\n",
       "\n",
       "    .dataframe thead th {\n",
       "        text-align: left;\n",
       "    }\n",
       "\n",
       "    .dataframe tbody tr th {\n",
       "        vertical-align: top;\n",
       "    }\n",
       "</style>\n",
       "<table border=\"1\" class=\"dataframe\">\n",
       "  <thead>\n",
       "    <tr style=\"text-align: right;\">\n",
       "      <th></th>\n",
       "      <th>ID</th>\n",
       "      <th>板温</th>\n",
       "      <th>现场温度</th>\n",
       "      <th>光照强度</th>\n",
       "      <th>转换效率</th>\n",
       "      <th>转换效率A</th>\n",
       "      <th>转换效率B</th>\n",
       "      <th>转换效率C</th>\n",
       "      <th>电压A</th>\n",
       "      <th>电压B</th>\n",
       "      <th>电压C</th>\n",
       "      <th>电流A</th>\n",
       "      <th>电流B</th>\n",
       "      <th>电流C</th>\n",
       "      <th>功率A</th>\n",
       "      <th>功率B</th>\n",
       "      <th>功率C</th>\n",
       "      <th>平均功率</th>\n",
       "      <th>风速</th>\n",
       "      <th>风向</th>\n",
       "    </tr>\n",
       "  </thead>\n",
       "  <tbody>\n",
       "    <tr>\n",
       "      <th>count</th>\n",
       "      <td>8409.000000</td>\n",
       "      <td>8409.000000</td>\n",
       "      <td>8409.000000</td>\n",
       "      <td>8409.000000</td>\n",
       "      <td>8409.000000</td>\n",
       "      <td>8409.000000</td>\n",
       "      <td>8409.000000</td>\n",
       "      <td>8409.000000</td>\n",
       "      <td>8409.000000</td>\n",
       "      <td>8409.000000</td>\n",
       "      <td>8409.000000</td>\n",
       "      <td>8409.000000</td>\n",
       "      <td>8409.000000</td>\n",
       "      <td>8409.000000</td>\n",
       "      <td>8409.000000</td>\n",
       "      <td>8409.000000</td>\n",
       "      <td>8409.000000</td>\n",
       "      <td>8409.000000</td>\n",
       "      <td>8409.000000</td>\n",
       "      <td>8409.000000</td>\n",
       "    </tr>\n",
       "    <tr>\n",
       "      <th>mean</th>\n",
       "      <td>9134.017362</td>\n",
       "      <td>6.743565</td>\n",
       "      <td>-0.532370</td>\n",
       "      <td>340.494232</td>\n",
       "      <td>67.180684</td>\n",
       "      <td>61.592292</td>\n",
       "      <td>71.052603</td>\n",
       "      <td>68.897216</td>\n",
       "      <td>692.506243</td>\n",
       "      <td>759.009989</td>\n",
       "      <td>712.268284</td>\n",
       "      <td>4.120589</td>\n",
       "      <td>4.457701</td>\n",
       "      <td>4.903527</td>\n",
       "      <td>2891.299515</td>\n",
       "      <td>3396.516889</td>\n",
       "      <td>3131.409281</td>\n",
       "      <td>3139.741955</td>\n",
       "      <td>2.391366</td>\n",
       "      <td>223.006422</td>\n",
       "    </tr>\n",
       "    <tr>\n",
       "      <th>std</th>\n",
       "      <td>5135.024213</td>\n",
       "      <td>11.733794</td>\n",
       "      <td>70.730474</td>\n",
       "      <td>220.139546</td>\n",
       "      <td>927.594047</td>\n",
       "      <td>2022.687363</td>\n",
       "      <td>1311.881379</td>\n",
       "      <td>1350.963592</td>\n",
       "      <td>1413.713947</td>\n",
       "      <td>2545.796157</td>\n",
       "      <td>1870.362932</td>\n",
       "      <td>2.570118</td>\n",
       "      <td>14.264229</td>\n",
       "      <td>21.105298</td>\n",
       "      <td>8837.131405</td>\n",
       "      <td>17642.610316</td>\n",
       "      <td>12662.028495</td>\n",
       "      <td>7941.118597</td>\n",
       "      <td>1.646400</td>\n",
       "      <td>96.326689</td>\n",
       "    </tr>\n",
       "    <tr>\n",
       "      <th>min</th>\n",
       "      <td>1.000000</td>\n",
       "      <td>-23.890000</td>\n",
       "      <td>-6414.200000</td>\n",
       "      <td>0.000000</td>\n",
       "      <td>0.000000</td>\n",
       "      <td>0.000000</td>\n",
       "      <td>0.000000</td>\n",
       "      <td>0.000000</td>\n",
       "      <td>0.000000</td>\n",
       "      <td>0.000000</td>\n",
       "      <td>0.000000</td>\n",
       "      <td>0.000000</td>\n",
       "      <td>0.000000</td>\n",
       "      <td>0.000000</td>\n",
       "      <td>0.000000</td>\n",
       "      <td>0.000000</td>\n",
       "      <td>0.000000</td>\n",
       "      <td>0.000000</td>\n",
       "      <td>0.000000</td>\n",
       "      <td>0.000000</td>\n",
       "    </tr>\n",
       "    <tr>\n",
       "      <th>25%</th>\n",
       "      <td>4732.000000</td>\n",
       "      <td>-1.790000</td>\n",
       "      <td>-7.500000</td>\n",
       "      <td>155.000000</td>\n",
       "      <td>20.400000</td>\n",
       "      <td>20.380000</td>\n",
       "      <td>20.220000</td>\n",
       "      <td>20.530000</td>\n",
       "      <td>641.000000</td>\n",
       "      <td>638.000000</td>\n",
       "      <td>637.000000</td>\n",
       "      <td>1.740000</td>\n",
       "      <td>1.750000</td>\n",
       "      <td>1.810000</td>\n",
       "      <td>1181.040000</td>\n",
       "      <td>1176.600000</td>\n",
       "      <td>1233.690000</td>\n",
       "      <td>1225.620000</td>\n",
       "      <td>1.200000</td>\n",
       "      <td>167.000000</td>\n",
       "    </tr>\n",
       "    <tr>\n",
       "      <th>50%</th>\n",
       "      <td>9262.000000</td>\n",
       "      <td>5.560000</td>\n",
       "      <td>-2.300000</td>\n",
       "      <td>312.000000</td>\n",
       "      <td>25.060000</td>\n",
       "      <td>24.770000</td>\n",
       "      <td>24.800000</td>\n",
       "      <td>25.380000</td>\n",
       "      <td>668.000000</td>\n",
       "      <td>666.000000</td>\n",
       "      <td>666.000000</td>\n",
       "      <td>4.040000</td>\n",
       "      <td>4.130000</td>\n",
       "      <td>4.100000</td>\n",
       "      <td>2710.500000</td>\n",
       "      <td>2762.540000</td>\n",
       "      <td>2756.000000</td>\n",
       "      <td>2739.600000</td>\n",
       "      <td>2.200000</td>\n",
       "      <td>269.000000</td>\n",
       "    </tr>\n",
       "    <tr>\n",
       "      <th>75%</th>\n",
       "      <td>13576.000000</td>\n",
       "      <td>15.470000</td>\n",
       "      <td>8.300000</td>\n",
       "      <td>529.000000</td>\n",
       "      <td>36.960000</td>\n",
       "      <td>36.060000</td>\n",
       "      <td>36.630000</td>\n",
       "      <td>36.930000</td>\n",
       "      <td>689.000000</td>\n",
       "      <td>686.000000</td>\n",
       "      <td>686.000000</td>\n",
       "      <td>6.470000</td>\n",
       "      <td>6.530000</td>\n",
       "      <td>6.610000</td>\n",
       "      <td>4245.750000</td>\n",
       "      <td>4262.500000</td>\n",
       "      <td>4324.900000</td>\n",
       "      <td>4268.160000</td>\n",
       "      <td>3.300000</td>\n",
       "      <td>283.000000</td>\n",
       "    </tr>\n",
       "    <tr>\n",
       "      <th>max</th>\n",
       "      <td>17875.000000</td>\n",
       "      <td>36.800000</td>\n",
       "      <td>54.500000</td>\n",
       "      <td>934.000000</td>\n",
       "      <td>61448.540000</td>\n",
       "      <td>183289.380000</td>\n",
       "      <td>86857.130000</td>\n",
       "      <td>77396.680000</td>\n",
       "      <td>65477.000000</td>\n",
       "      <td>65508.000000</td>\n",
       "      <td>65514.000000</td>\n",
       "      <td>9.570000</td>\n",
       "      <td>653.710000</td>\n",
       "      <td>652.040000</td>\n",
       "      <td>453360.600000</td>\n",
       "      <td>603301.050000</td>\n",
       "      <td>458325.000000</td>\n",
       "      <td>202906.540000</td>\n",
       "      <td>25.200000</td>\n",
       "      <td>619.000000</td>\n",
       "    </tr>\n",
       "  </tbody>\n",
       "</table>\n",
       "</div>"
      ],
      "text/plain": [
       "                 ID           板温         现场温度         光照强度          转换效率          转换效率A         转换效率B         转换效率C           电压A           电压B           电压C          电流A          电流B          电流C            功率A            功率B            功率C           平均功率           风速           风向\n",
       "count   8409.000000  8409.000000  8409.000000  8409.000000   8409.000000    8409.000000   8409.000000   8409.000000   8409.000000   8409.000000   8409.000000  8409.000000  8409.000000  8409.000000    8409.000000    8409.000000    8409.000000    8409.000000  8409.000000  8409.000000\n",
       "mean    9134.017362     6.743565    -0.532370   340.494232     67.180684      61.592292     71.052603     68.897216    692.506243    759.009989    712.268284     4.120589     4.457701     4.903527    2891.299515    3396.516889    3131.409281    3139.741955     2.391366   223.006422\n",
       "std     5135.024213    11.733794    70.730474   220.139546    927.594047    2022.687363   1311.881379   1350.963592   1413.713947   2545.796157   1870.362932     2.570118    14.264229    21.105298    8837.131405   17642.610316   12662.028495    7941.118597     1.646400    96.326689\n",
       "min        1.000000   -23.890000 -6414.200000     0.000000      0.000000       0.000000      0.000000      0.000000      0.000000      0.000000      0.000000     0.000000     0.000000     0.000000       0.000000       0.000000       0.000000       0.000000     0.000000     0.000000\n",
       "25%     4732.000000    -1.790000    -7.500000   155.000000     20.400000      20.380000     20.220000     20.530000    641.000000    638.000000    637.000000     1.740000     1.750000     1.810000    1181.040000    1176.600000    1233.690000    1225.620000     1.200000   167.000000\n",
       "50%     9262.000000     5.560000    -2.300000   312.000000     25.060000      24.770000     24.800000     25.380000    668.000000    666.000000    666.000000     4.040000     4.130000     4.100000    2710.500000    2762.540000    2756.000000    2739.600000     2.200000   269.000000\n",
       "75%    13576.000000    15.470000     8.300000   529.000000     36.960000      36.060000     36.630000     36.930000    689.000000    686.000000    686.000000     6.470000     6.530000     6.610000    4245.750000    4262.500000    4324.900000    4268.160000     3.300000   283.000000\n",
       "max    17875.000000    36.800000    54.500000   934.000000  61448.540000  183289.380000  86857.130000  77396.680000  65477.000000  65508.000000  65514.000000     9.570000   653.710000   652.040000  453360.600000  603301.050000  458325.000000  202906.540000    25.200000   619.000000"
      ]
     },
     "execution_count": 5,
     "metadata": {},
     "output_type": "execute_result"
    }
   ],
   "source": [
    "test_data.describe()"
   ]
  },
  {
   "cell_type": "code",
   "execution_count": 6,
   "metadata": {},
   "outputs": [],
   "source": [
    "# print(test_data[test_data['现场温度'] < -274])\n",
    "# print('\\n',train_data[train_data['现场温度'] < -274])\n",
    "# print('\\n',test_data['风向'][test_data['风向'] > 360])\n",
    "# print('\\n',train_data['风向'][train_data['风向'] > 360])\n",
    "# len(np.unique(test_data['风向']))"
   ]
  },
  {
   "cell_type": "code",
   "execution_count": 7,
   "metadata": {
    "collapsed": true
   },
   "outputs": [],
   "source": [
    "def drop_col(df, col_name):\n",
    "    return df.drop([col_name], axis=1)\n",
    "\n",
    "# def drop_outlayer(df):\n",
    "#     df.drop(df[df['发电量'] < 0].index, inplace=True)\n",
    "#     df.drop(df[df['现场温度'] < -268].index, inplace=True)\n",
    "#     df.drop(df[df['转换效率'] > 20000].index, inplace=True)\n",
    "#     df.drop(df[df['转换效率'] < 0].index, inplace=True)\n",
    "#     df.drop(df[df['风向'] > 360].index, inplace=True)\n",
    "#     return df"
   ]
  },
  {
   "cell_type": "code",
   "execution_count": 8,
   "metadata": {
    "collapsed": true
   },
   "outputs": [],
   "source": [
    "# train_data = drop_outlayer(train_data)\n",
    "\n",
    "# train_data = drop_col(train_data, '平均功率')\n",
    "# train_data = drop_col(train_data, '转换效率')\n",
    "# test_data = drop_col(test_data, '平均功率')\n",
    "# test_data = drop_col(test_data, '转换效率')\n",
    "# train_data = drop_col(train_data, '风速')\n",
    "# test_data = drop_col(test_data, '风速')"
   ]
  },
  {
   "cell_type": "markdown",
   "metadata": {},
   "source": [
    "### 去除重复值"
   ]
  },
  {
   "cell_type": "code",
   "execution_count": 9,
   "metadata": {
    "collapsed": true
   },
   "outputs": [],
   "source": [
    "train_data.drop_duplicates(train_data.columns.drop('ID'), keep='first', inplace=True)"
   ]
  },
  {
   "cell_type": "markdown",
   "metadata": {},
   "source": [
    "### 处理缺失值"
   ]
  },
  {
   "cell_type": "markdown",
   "metadata": {},
   "source": [
    "#### 1. 平均值、众数替换"
   ]
  },
  {
   "cell_type": "code",
   "execution_count": 10,
   "metadata": {},
   "outputs": [],
   "source": [
    "def process_missing_value(df, feature, mode='mean'):\n",
    "    if mode.lower() == 'mean':\n",
    "        df[feature].loc[(df[feature] == 0) | (df[feature] == 0.)] = df[feature].mean()\n",
    "    elif model.lower() == 'mode':\n",
    "        df[feature].loc[(df[feature] == 0) | (df[feature] == 0.)] = df[feature].mode()\n",
    "    return df"
   ]
  },
  {
   "cell_type": "code",
   "execution_count": 11,
   "metadata": {
    "collapsed": true
   },
   "outputs": [],
   "source": [
    "def col_missing_count(df, feature):\n",
    "    return df[feature][(df[feature] == 0.) | (df[feature] == 0)].count()\n",
    "\n",
    "def show_all_missing_value(df, process=False, mode='mean'): \n",
    "    missing_count = {}\n",
    "    for f in df.columns.drop(['ID']):\n",
    "        missing_count[f] = [col_missing_count(df, f)]\n",
    "\n",
    "    missing = pd.DataFrame(missing_count)\n",
    "    if process:\n",
    "        for f in df.columns.drop(['ID']):\n",
    "            df = process_missing_value(df, f, mode=mode)\n",
    "    return missing"
   ]
  },
  {
   "cell_type": "code",
   "execution_count": 12,
   "metadata": {
    "scrolled": true
   },
   "outputs": [],
   "source": [
    "# show_all_missing_value(train_data, process=True)"
   ]
  },
  {
   "cell_type": "code",
   "execution_count": 13,
   "metadata": {
    "scrolled": true
   },
   "outputs": [],
   "source": [
    "# show_all_missing_value(train_data)"
   ]
  },
  {
   "cell_type": "markdown",
   "metadata": {},
   "source": [
    "#### 2. 近邻值替换"
   ]
  },
  {
   "cell_type": "code",
   "execution_count": 14,
   "metadata": {
    "scrolled": true
   },
   "outputs": [
    {
     "data": {
      "text/plain": [
       "NearestNeighbors(algorithm='auto', leaf_size=30, metric='cosine',\n",
       "         metric_params=None, n_jobs=8, n_neighbors=5, p=2, radius=1.0)"
      ]
     },
     "execution_count": 14,
     "metadata": {},
     "output_type": "execute_result"
    }
   ],
   "source": [
    "from sklearn.neighbors import NearestNeighbors\n",
    "neighbors = NearestNeighbors(metric='cosine', n_jobs=8, algorithm='auto')\n",
    "neighbors.fit(train_data.drop(['ID', '发电量'], axis=1))"
   ]
  },
  {
   "cell_type": "code",
   "execution_count": 15,
   "metadata": {},
   "outputs": [],
   "source": [
    "def process_missing_by_nearest_neighbors(df):\n",
    "    if '发电量' in df.columns:\n",
    "        tmp_df = df.drop(['ID', '发电量'], axis=1)\n",
    "    else:\n",
    "        tmp_df = df.drop(['ID'], axis=1)\n",
    "    for idx, line in tmp_df.iterrows():\n",
    "        if (line[(line == 0) | (line == 0.)].count() > 0):\n",
    "            col_index = line[(line == 0) | (line == 0.)].index\n",
    "            n_index = neighbors.kneighbors(line.values.reshape(1, -1))[1][0]\n",
    "            df.loc[idx, col_index] = np.average(df.loc[n_index.tolist(), col_index].dropna(), axis=0)    \n",
    "    return df"
   ]
  },
  {
   "cell_type": "code",
   "execution_count": 16,
   "metadata": {
    "scrolled": false
   },
   "outputs": [],
   "source": [
    "# trian_data = process_missing_by_nearest_neighbors(train_data)"
   ]
  },
  {
   "cell_type": "code",
   "execution_count": 17,
   "metadata": {
    "scrolled": true
   },
   "outputs": [],
   "source": [
    "# test_data = process_missing_by_nearest_neighbors(test_data)"
   ]
  },
  {
   "cell_type": "code",
   "execution_count": 18,
   "metadata": {},
   "outputs": [],
   "source": [
    "# show_all_missing_value(train_data)"
   ]
  },
  {
   "cell_type": "code",
   "execution_count": 19,
   "metadata": {},
   "outputs": [],
   "source": [
    "# show_all_missing_value(test_data)"
   ]
  },
  {
   "cell_type": "markdown",
   "metadata": {},
   "source": [
    "### 数据分布调整（没什么用）"
   ]
  },
  {
   "cell_type": "code",
   "execution_count": 20,
   "metadata": {},
   "outputs": [
    {
     "data": {
      "text/plain": [
       "array([[<matplotlib.axes._subplots.AxesSubplot object at 0x11c24a240>,\n",
       "        <matplotlib.axes._subplots.AxesSubplot object at 0x11c8ce390>,\n",
       "        <matplotlib.axes._subplots.AxesSubplot object at 0x11c230908>,\n",
       "        <matplotlib.axes._subplots.AxesSubplot object at 0x10b1d32b0>,\n",
       "        <matplotlib.axes._subplots.AxesSubplot object at 0x11c7f1d30>],\n",
       "       [<matplotlib.axes._subplots.AxesSubplot object at 0x11c7f1d68>,\n",
       "        <matplotlib.axes._subplots.AxesSubplot object at 0x11c863a90>,\n",
       "        <matplotlib.axes._subplots.AxesSubplot object at 0x11c890780>,\n",
       "        <matplotlib.axes._subplots.AxesSubplot object at 0x11c928860>,\n",
       "        <matplotlib.axes._subplots.AxesSubplot object at 0x11cc60fd0>],\n",
       "       [<matplotlib.axes._subplots.AxesSubplot object at 0x11ccb5fd0>,\n",
       "        <matplotlib.axes._subplots.AxesSubplot object at 0x11cc8e518>,\n",
       "        <matplotlib.axes._subplots.AxesSubplot object at 0x11c226358>,\n",
       "        <matplotlib.axes._subplots.AxesSubplot object at 0x11d34d128>,\n",
       "        <matplotlib.axes._subplots.AxesSubplot object at 0x11d387128>],\n",
       "       [<matplotlib.axes._subplots.AxesSubplot object at 0x11d3bd668>,\n",
       "        <matplotlib.axes._subplots.AxesSubplot object at 0x11d3e4c18>,\n",
       "        <matplotlib.axes._subplots.AxesSubplot object at 0x11d420ba8>,\n",
       "        <matplotlib.axes._subplots.AxesSubplot object at 0x11d459ba8>,\n",
       "        <matplotlib.axes._subplots.AxesSubplot object at 0x11d49c128>],\n",
       "       [<matplotlib.axes._subplots.AxesSubplot object at 0x11d4a40f0>,\n",
       "        <matplotlib.axes._subplots.AxesSubplot object at 0x11d5006d8>,\n",
       "        <matplotlib.axes._subplots.AxesSubplot object at 0x11d5386d8>,\n",
       "        <matplotlib.axes._subplots.AxesSubplot object at 0x11d571c18>,\n",
       "        <matplotlib.axes._subplots.AxesSubplot object at 0x11d5a6c18>]],\n",
       "      dtype=object)"
      ]
     },
     "execution_count": 20,
     "metadata": {},
     "output_type": "execute_result"
    },
    {
     "data": {
      "image/png": "[encoded data removed]",
      "text/plain": [
       "<matplotlib.figure.Figure at 0x11c232b70>"
      ]
     },
     "metadata": {},
     "output_type": "display_data"
    }
   ],
   "source": [
    "train_data.hist(figsize=(15,13))"
   ]
  },
  {
   "cell_type": "code",
   "execution_count": 21,
   "metadata": {
    "scrolled": true
   },
   "outputs": [
    {
     "data": {
      "text/plain": [
       "ID        5114.321777\n",
       "板温          11.774257\n",
       "现场温度        67.738640\n",
       "光照强度       218.944451\n",
       "转换效率       811.108515\n",
       "转换效率A      608.822482\n",
       "转换效率B     2201.671023\n",
       "转换效率C      709.172324\n",
       "电压A       1939.190689\n",
       "电压B       2056.995210\n",
       "电压C       1680.867181\n",
       "电流A          2.554991\n",
       "电流B         18.161688\n",
       "电流C         16.727608\n",
       "功率A      13775.968549\n",
       "功率B      14276.168783\n",
       "功率C      11724.393268\n",
       "平均功率      7784.811640\n",
       "风速           1.624018\n",
       "风向          96.370203\n",
       "发电量          3.445110\n",
       "dtype: float64"
      ]
     },
     "execution_count": 21,
     "metadata": {},
     "output_type": "execute_result"
    }
   ],
   "source": [
    "train_data.std()"
   ]
  },
  {
   "cell_type": "code",
   "execution_count": 22,
   "metadata": {},
   "outputs": [],
   "source": [
    "def process_hugstd_value(df, feature, method='sqrt'):\n",
    "    if method == 'sqrt':\n",
    "        df[feature] = df[feature].apply(np.sqrt)\n",
    "    elif method == 'log':\n",
    "        df[feature] = df[feature].apply(np.log)\n",
    "    return df"
   ]
  },
  {
   "cell_type": "code",
   "execution_count": 23,
   "metadata": {
    "collapsed": true
   },
   "outputs": [],
   "source": [
    "# train_data = process_hugstd_value(train_data, '转换效率B')\n",
    "# test_data = process_hugstd_value(test_data, '转换效率B')\n",
    "\n",
    "# train_data = process_hugstd_value(train_data, '电压A')\n",
    "# test_data = process_hugstd_value(test_data, '电压A')"
   ]
  },
  {
   "cell_type": "code",
   "execution_count": 24,
   "metadata": {},
   "outputs": [],
   "source": [
    "# train_data.describe()"
   ]
  },
  {
   "cell_type": "markdown",
   "metadata": {},
   "source": [
    "### 风向值离散化（没什么用）"
   ]
  },
  {
   "cell_type": "code",
   "execution_count": 25,
   "metadata": {},
   "outputs": [],
   "source": [
    "def discrete(x):\n",
    "    if x % 10 >= 5:\n",
    "        x //= 10\n",
    "        x *= 10\n",
    "        x += 10\n",
    "    else:\n",
    "        x //= 10\n",
    "        x *= 10\n",
    "    return x"
   ]
  },
  {
   "cell_type": "code",
   "execution_count": 26,
   "metadata": {
    "scrolled": true
   },
   "outputs": [],
   "source": [
    "# train_data['风向'] = train_data['风向'].apply(discrete)"
   ]
  },
  {
   "cell_type": "code",
   "execution_count": 27,
   "metadata": {},
   "outputs": [],
   "source": [
    "# train_data['风向'].plot(kind='hist')\n",
    "# plt.show()"
   ]
  },
  {
   "cell_type": "code",
   "execution_count": 28,
   "metadata": {},
   "outputs": [],
   "source": [
    "# len(np.unique(train_data['风向']))"
   ]
  },
  {
   "cell_type": "markdown",
   "metadata": {},
   "source": [
    "### Model: Xgboost, Sklearn_GBDT, RandomForest, LightGBM"
   ]
  },
  {
   "cell_type": "code",
   "execution_count": 29,
   "metadata": {},
   "outputs": [],
   "source": [
    "def generate_train_data(train_data, test_data, poly=False, select=False):\n",
    "    y = train_data['发电量']\n",
    "    X = train_data.drop(['发电量','ID'], axis=1)\n",
    "    sub_data = test_data.drop(['ID'], axis=1)\n",
    "\n",
    "    if poly:\n",
    "        from sklearn.preprocessing import PolynomialFeatures\n",
    "        poly = PolynomialFeatures(degree=2, interaction_only=True)\n",
    "        X = poly.fit_transform(X)\n",
    "        sub_data = poly.transform(sub_data)\n",
    "        \n",
    "    X_train, X_test, y_train, y_test = train_test_split(X, y, test_size=0.2, random_state=123)\n",
    "\n",
    "    if select:\n",
    "        from sklearn.feature_selection import SelectFromModel\n",
    "        sm = SelectFromModel(GradientBoostingRegressor(random_state=2))\n",
    "        X_train = sm.fit_transform(X_train, y_train)\n",
    "        X_test = sm.transform(X_test)\n",
    "        sub_data = sm.transform(sub_data)\n",
    "        \n",
    "    return X_train, X_test, y_train, y_test, sub_data"
   ]
  },
  {
   "cell_type": "code",
   "execution_count": 30,
   "metadata": {
    "collapsed": true
   },
   "outputs": [],
   "source": [
    "def cal_score(mse):\n",
    "    return 1 / (1 + math.sqrt(mse))"
   ]
  },
  {
   "cell_type": "code",
   "execution_count": 31,
   "metadata": {},
   "outputs": [
    {
     "name": "stdout",
     "output_type": "stream",
     "text": [
      "(7134, 54) (8409, 54)\n"
     ]
    }
   ],
   "source": [
    "X_train, X_test, y_train, y_test, sub_data = generate_train_data(train_data, test_data, poly=True, select=True)\n",
    "print(X_train.shape, sub_data.shape)"
   ]
  },
  {
   "cell_type": "code",
   "execution_count": 32,
   "metadata": {},
   "outputs": [],
   "source": [
    "xgbt = xgb.XGBRegressor(n_estimators=200, max_depth=3, random_state=1, n_jobs=8)\n",
    "gbdt = GradientBoostingRegressor(n_estimators=200, max_depth=3, max_features='log2', random_state=1)\n",
    "forest = RandomForestRegressor(n_estimators=100, max_features='log2', random_state=1, n_jobs=8)\n",
    "\n",
    "lgb_params = {}\n",
    "lgb_params['n_estimators'] = 200\n",
    "lgb_params['max_depth'] = 3 \n",
    "lgb_params['random_state'] = 1\n",
    "lgb = LGBMRegressor(**lgb_params)"
   ]
  },
  {
   "cell_type": "code",
   "execution_count": 45,
   "metadata": {
    "collapsed": true
   },
   "outputs": [],
   "source": [
    "def train(X_train, y_train):\n",
    "    xgbt.fit(X_train, y_train)\n",
    "    gbdt.fit(X_train, y_train)\n",
    "    forest.fit(X_train, y_train)\n",
    "    lgb.fit(X_train, y_train)\n",
    "\n",
    "def predict(X_test, y_test):\n",
    "    y_pred_xgb = xgbt.predict(X_test)\n",
    "    mse_xgb = mean_squared_error(y_test.values, y_pred_xgb)\n",
    "    \n",
    "    y_pred_gbdt = gbdt.predict(X_test)\n",
    "    mse_gbdt = mean_squared_error(y_test.values, y_pred_gbdt)\n",
    "    \n",
    "    y_pred_forest = forest.predict(X_test)\n",
    "    mse_forest = mean_squared_error(y_true=y_test, y_pred=y_pred_forest)\n",
    "    \n",
    "    y_pred_lgb = lgb.predict(X_test)\n",
    "    mse_lgb = mean_squared_error(y_true=y_test, y_pred=y_pred_lgb)\n",
    "    \n",
    "    res = pd.DataFrame()\n",
    "    res['model'] = np.array(['XGBoost', 'Sklearn_GBDT', 'RandomForest', 'LightGBM'])\n",
    "    res['mse'] = np.array([mse_xgb, mse_gbdt, mse_forest, mse_lgb])\n",
    "    res['score'] = np.array([cal_score(mse_xgb), cal_score(mse_gbdt), cal_score(mse_forest), cal_score(mse_lgb)])\n",
    "    return res\n",
    "\n",
    "def cross_validation_using_mse(X_train, y_train, cv=5):\n",
    "    scores_xgb = cross_val_score(xgbt, X_train, y_train, cv=cv, scoring='neg_mean_squared_error')\n",
    "    xgb_avg = np.average(-scores_xgb)\n",
    "    print('Average XGB - MSE:', xgb_avg, ' - Score:', cal_score(xgb_avg))\n",
    "    \n",
    "    scores_gbdt = cross_val_score(gbdt, X_train, y_train, cv=cv, scoring='neg_mean_squared_error')\n",
    "    gbdt_avg = np.average(-scores_gbdt)\n",
    "    print('Average GBDT - MSE:', gbdt_avg, ' - Score:', cal_score(gbdt_avg))\n",
    "    \n",
    "    scores_forest = cross_val_score(forest, X_train, y_train, cv=cv, scoring='neg_mean_squared_error')\n",
    "    rf_avg = np.average(-scores_forest)\n",
    "    print('Average RF - MSE:', rf_avg, ' - Score:', cal_score(rf_avg))\n",
    "    \n",
    "    scores_lgb = cross_val_score(lgb, X_train, y_train, cv=cv, scoring='neg_mean_squared_error')\n",
    "    lgb_avg = np.average(-scores_lgb)\n",
    "    print('Average LGB - MSE:', lgb_avg, ' - Score:', cal_score(lgb_avg))\n",
    "    \n",
    "    res = pd.DataFrame({\n",
    "        'XGBoost': -scores_xgb,\n",
    "        'Skleanr_GBDT': -scores_gbdt,\n",
    "        'RandomForest': -scores_forest,\n",
    "        'LightGBM': -scores_lgb\n",
    "    })\n",
    "    \n",
    "    return res"
   ]
  },
  {
   "cell_type": "code",
   "execution_count": 34,
   "metadata": {},
   "outputs": [
    {
     "data": {
      "text/html": [
       "<div>\n",
       "<style>\n",
       "    .dataframe thead tr:only-child th {\n",
       "        text-align: right;\n",
       "    }\n",
       "\n",
       "    .dataframe thead th {\n",
       "        text-align: left;\n",
       "    }\n",
       "\n",
       "    .dataframe tbody tr th {\n",
       "        vertical-align: top;\n",
       "    }\n",
       "</style>\n",
       "<table border=\"1\" class=\"dataframe\">\n",
       "  <thead>\n",
       "    <tr style=\"text-align: right;\">\n",
       "      <th></th>\n",
       "      <th>model</th>\n",
       "      <th>mse</th>\n",
       "      <th>score</th>\n",
       "    </tr>\n",
       "  </thead>\n",
       "  <tbody>\n",
       "    <tr>\n",
       "      <th>0</th>\n",
       "      <td>XGBoost</td>\n",
       "      <td>0.018279</td>\n",
       "      <td>0.880903</td>\n",
       "    </tr>\n",
       "    <tr>\n",
       "      <th>1</th>\n",
       "      <td>Sklearn_GBDT</td>\n",
       "      <td>0.021172</td>\n",
       "      <td>0.872976</td>\n",
       "    </tr>\n",
       "    <tr>\n",
       "      <th>2</th>\n",
       "      <td>RandomForest</td>\n",
       "      <td>0.016943</td>\n",
       "      <td>0.884825</td>\n",
       "    </tr>\n",
       "    <tr>\n",
       "      <th>3</th>\n",
       "      <td>LightGBM</td>\n",
       "      <td>0.017924</td>\n",
       "      <td>0.881926</td>\n",
       "    </tr>\n",
       "  </tbody>\n",
       "</table>\n",
       "</div>"
      ],
      "text/plain": [
       "          model       mse     score\n",
       "0       XGBoost  0.018279  0.880903\n",
       "1  Sklearn_GBDT  0.021172  0.872976\n",
       "2  RandomForest  0.016943  0.884825\n",
       "3      LightGBM  0.017924  0.881926"
      ]
     },
     "execution_count": 34,
     "metadata": {},
     "output_type": "execute_result"
    }
   ],
   "source": [
    "train(X_train, y_train)\n",
    "predict(X_test, y_test)"
   ]
  },
  {
   "cell_type": "code",
   "execution_count": 46,
   "metadata": {
    "scrolled": false
   },
   "outputs": [
    {
     "name": "stdout",
     "output_type": "stream",
     "text": [
      "Average XGB - MSE: 0.03544693597776803  - Score: 0.8415570520881192\n",
      "Average GBDT - MSE: 0.03864388004656939  - Score: 0.8357147951953262\n",
      "Average RF - MSE: 0.03666179797449355  - Score: 0.8392974452052131\n",
      "Average LGB - MSE: 0.03647621965487698  - Score: 0.8396393850421255\n"
     ]
    },
    {
     "data": {
      "text/html": [
       "<div>\n",
       "<style>\n",
       "    .dataframe thead tr:only-child th {\n",
       "        text-align: right;\n",
       "    }\n",
       "\n",
       "    .dataframe thead th {\n",
       "        text-align: left;\n",
       "    }\n",
       "\n",
       "    .dataframe tbody tr th {\n",
       "        vertical-align: top;\n",
       "    }\n",
       "</style>\n",
       "<table border=\"1\" class=\"dataframe\">\n",
       "  <thead>\n",
       "    <tr style=\"text-align: right;\">\n",
       "      <th></th>\n",
       "      <th>LightGBM</th>\n",
       "      <th>RandomForest</th>\n",
       "      <th>Skleanr_GBDT</th>\n",
       "      <th>XGBoost</th>\n",
       "    </tr>\n",
       "  </thead>\n",
       "  <tbody>\n",
       "    <tr>\n",
       "      <th>0</th>\n",
       "      <td>0.015751</td>\n",
       "      <td>0.015402</td>\n",
       "      <td>0.016909</td>\n",
       "      <td>0.013968</td>\n",
       "    </tr>\n",
       "    <tr>\n",
       "      <th>1</th>\n",
       "      <td>0.031325</td>\n",
       "      <td>0.032829</td>\n",
       "      <td>0.033047</td>\n",
       "      <td>0.028023</td>\n",
       "    </tr>\n",
       "    <tr>\n",
       "      <th>2</th>\n",
       "      <td>0.024215</td>\n",
       "      <td>0.026430</td>\n",
       "      <td>0.024570</td>\n",
       "      <td>0.023745</td>\n",
       "    </tr>\n",
       "    <tr>\n",
       "      <th>3</th>\n",
       "      <td>0.092499</td>\n",
       "      <td>0.091797</td>\n",
       "      <td>0.097578</td>\n",
       "      <td>0.093750</td>\n",
       "    </tr>\n",
       "    <tr>\n",
       "      <th>4</th>\n",
       "      <td>0.018591</td>\n",
       "      <td>0.016851</td>\n",
       "      <td>0.021115</td>\n",
       "      <td>0.017749</td>\n",
       "    </tr>\n",
       "  </tbody>\n",
       "</table>\n",
       "</div>"
      ],
      "text/plain": [
       "   LightGBM  RandomForest  Skleanr_GBDT   XGBoost\n",
       "0  0.015751      0.015402      0.016909  0.013968\n",
       "1  0.031325      0.032829      0.033047  0.028023\n",
       "2  0.024215      0.026430      0.024570  0.023745\n",
       "3  0.092499      0.091797      0.097578  0.093750\n",
       "4  0.018591      0.016851      0.021115  0.017749"
      ]
     },
     "execution_count": 46,
     "metadata": {},
     "output_type": "execute_result"
    }
   ],
   "source": [
    "cross_validation_using_mse(np.concatenate([X_train, X_test]), np.concatenate([y_train, y_test]), cv=5)"
   ]
  },
  {
   "cell_type": "markdown",
   "metadata": {},
   "source": [
    "### NN"
   ]
  },
  {
   "cell_type": "code",
   "execution_count": null,
   "metadata": {},
   "outputs": [],
   "source": [
    "from keras.models import Sequential\n",
    "from keras.layers import Dense, Dropout\n",
    "from keras.callbacks import ModelCheckpoint\n",
    "from sklearn.preprocessing import MinMaxScaler\n",
    "from sklearn.preprocessing import PolynomialFeatures"
   ]
  },
  {
   "cell_type": "code",
   "execution_count": null,
   "metadata": {},
   "outputs": [],
   "source": [
    "min_max_scaler = MinMaxScaler()\n",
    "X_nn = min_max_scaler.fit_transform(X_train)"
   ]
  },
  {
   "cell_type": "code",
   "execution_count": null,
   "metadata": {
    "collapsed": true
   },
   "outputs": [],
   "source": [
    "poly = PolynomialFeatures(degree=2, interaction_only=True)\n",
    "X_nn = poly.fit_transform(X_nn)"
   ]
  },
  {
   "cell_type": "code",
   "execution_count": null,
   "metadata": {
    "scrolled": true
   },
   "outputs": [],
   "source": [
    "NN = Sequential()\n",
    "NN.add(Dense(50, input_dim=X_nn.shape[1], init='uniform', activation='relu'))\n",
    "NN.add(Dropout(0.5, input_shape=(100, )))\n",
    "NN.add(Dense(50, init='uniform', activation='relu'))\n",
    "NN.add(Dense(1, init='uniform', activation='relu'))\n",
    "NN.summary()"
   ]
  },
  {
   "cell_type": "code",
   "execution_count": null,
   "metadata": {
    "collapsed": true
   },
   "outputs": [],
   "source": [
    "NN.compile(loss='mse', optimizer='Adam', metrics=['mse'])\n",
    "NN.fit(x=X_nn, y=y_train, epochs=200)"
   ]
  },
  {
   "cell_type": "code",
   "execution_count": null,
   "metadata": {},
   "outputs": [],
   "source": [
    "X_test_nn = min_max_scaler.transform(X_test)\n",
    "X_test_nn = poly.transform(X_test_nn)"
   ]
  },
  {
   "cell_type": "code",
   "execution_count": null,
   "metadata": {
    "scrolled": true
   },
   "outputs": [],
   "source": [
    "y_pred_nn = NN.predict(X_test_nn)\n",
    "mean_squared_error(y_test, y_pred_nn)"
   ]
  },
  {
   "cell_type": "markdown",
   "metadata": {},
   "source": [
    "### output"
   ]
  },
  {
   "cell_type": "code",
   "execution_count": 42,
   "metadata": {},
   "outputs": [],
   "source": [
    "df_result = pd.DataFrame()\n",
    "df_result['ID'] = list(test_data['ID'])\n",
    "\n",
    "def output(sub_data, model='gbdt'):\n",
    "    if model == 'nn':\n",
    "        sub_data_nn = min_max_scaler.transform(np.array(sub_data))\n",
    "        sub_data_nn = poly.transform(sub_data_nn)\n",
    "        pred = NN.predict(sub_data_nn)\n",
    "\n",
    "    elif model == 'gbdt':\n",
    "        pred = gbdt.predict(sub_data)\n",
    "\n",
    "    elif model == 'xgb':\n",
    "        pred = xgbt.predict(sub_data)\n",
    "\n",
    "    elif model == 'rf':\n",
    "        pred = forest.predict(sub_data)\n",
    "    \n",
    "    elif model == 'lgb':\n",
    "        pred = lgb.predict(sub_data)\n",
    "        \n",
    "    return pred"
   ]
  },
  {
   "cell_type": "code",
   "execution_count": 43,
   "metadata": {},
   "outputs": [],
   "source": [
    "df_result['score'] = output(sub_data, 'rf')"
   ]
  },
  {
   "cell_type": "code",
   "execution_count": null,
   "metadata": {},
   "outputs": [],
   "source": [
    "df_result"
   ]
  },
  {
   "cell_type": "code",
   "execution_count": 40,
   "metadata": {
    "collapsed": true
   },
   "outputs": [],
   "source": [
    "df_result.to_csv('submit_rf_withpoly_withselectbygbdt_dropdup.csv', index=False, header=False)"
   ]
  },
  {
   "cell_type": "code",
   "execution_count": null,
   "metadata": {
    "collapsed": true
   },
   "outputs": [],
   "source": []
  }
 ],
 "metadata": {
  "kernelspec": {
   "display_name": "Python 3",
   "language": "python",
   "name": "python3"
  },
  "language_info": {
   "codemirror_mode": {
    "name": "ipython",
    "version": 3
   },
   "file_extension": ".py",
   "mimetype": "text/x-python",
   "name": "python",
   "nbconvert_exporter": "python",
   "pygments_lexer": "ipython3",
   "version": "3.6.3"
  }
 },
 "nbformat": 4,
 "nbformat_minor": 2
}
