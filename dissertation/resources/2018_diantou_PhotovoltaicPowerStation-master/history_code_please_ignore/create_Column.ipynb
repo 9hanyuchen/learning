{
 "cells": [
  {
   "cell_type": "code",
   "execution_count": null,
   "metadata": {},
   "outputs": [],
   "source": [
    "df = pd.read_csv(r\"public.test.csv\")\n",
    "\n",
    "df.drop_duplicates(df.columns.drop('ID'), keep='first', inplace=True)\n",
    "df.drop(df[(df.电压A > 800) | (df.电压A < 500)].index,inplace=True)\n",
    "df.drop(df[(df.电压B > 800) | (df.电压B < 500)].index,inplace=True)\n",
    "df.drop(df[(df.电压C > 800) | (df.电压C < 500)].index,inplace=True)\n",
    "df.drop(df[(df.现场温度 > 30) | (df.电压B < -30)].index,inplace=True)\n",
    "df.drop(df[(df.转换效率A > 100)].index,inplace=True)\n",
    "df.drop(df[(df.转换效率B > 100)].index,inplace=True)\n",
    "df.drop(df[(df.转换效率C > 100)].index,inplace=True)\n",
    "df.drop(df[(df.风向 > 360)].index,inplace=True)\n",
    "df.drop(df[(df.风速 > 20)].index,inplace=True)\n",
    "df.to_csv('clean.test.csv')\n",
    "df\n",
    "df.describe()\n",
    "这是我处理的噪声\n",
    "\n",
    "import pandas as pd\n",
    "origin_result=pd.read_csv('origin_result.csv')#需保留列名\n",
    "clean_result=pd.read_csv('clean_result.csv')#需保留列名\n",
    "clean_ID=list(clean_result['ID'])\n",
    "clean_score=list(clean_result['score'])\n",
    "for i in range(len(clean_ID)):\n",
    "    origin_result.loc[origin_result['ID'] == clean_ID[i],'score'] = clean_score[i]\n",
    "origin_result.drop(origin_result.index)\n",
    "origin_result.to_csv('result.csv',header=False)"
   ]
  },
  {
   "cell_type": "markdown",
   "metadata": {},
   "source": [
    "### 自定义工具函数库"
   ]
  },
  {
   "cell_type": "code",
   "execution_count": null,
   "metadata": {},
   "outputs": [],
   "source": [
    "train_X,train_y,test_data = load_data"
   ]
  },
  {
   "cell_type": "markdown",
   "metadata": {},
   "source": [
    "### 自定义工具函数库"
   ]
  },
  {
   "cell_type": "code",
   "execution_count": 19,
   "metadata": {},
   "outputs": [],
   "source": [
    "#coding=utf-8\n",
    "import  pandas as pd\n",
    "import numpy as np\n",
    "import scipy as sp\n",
    "from sklearn.metrics import mean_squared_error\n",
    "import scipy.signal as signal\n",
    "import math\n",
    "# def load_data():\n",
    "#     print (\"============================读取数据========================\")\n",
    "#     print (\"======================我是萌萌哒分界线========================\")\n",
    "#     train_data = pd.read_csv('./data/public.train.csv')\n",
    "#     test_data = pd.read_csv('./data/public.test.csv')\n",
    "#     submit = pd.read_csv('./data/submit_example.csv')\n",
    "#     train_y = train_data['发电量']\n",
    "#     train_X = train_data.drop(['ID','发电量'], axis=1)\n",
    "#     return train_X,train_y,test_data\n",
    "def del_data(df):\n",
    "    df.drop_duplicates(df.columns.drop('ID'), keep='first', inplace=True)\n",
    "    df.drop(df[(df.电压A > 800) | (df.电压A < 500)].index,inplace=True)\n",
    "    df.drop(df[(df.电压B > 800) | (df.电压B < 500)].index,inplace=True)\n",
    "    df.drop(df[(df.电压C > 800) | (df.电压C < 500)].index,inplace=True)\n",
    "    df.drop(df[(df.现场温度 > 30) | (df.电压B < -30)].index,inplace=True)\n",
    "    df.drop(df[(df.转换效率A > 100)].index,inplace=True)\n",
    "    df.drop(df[(df.转换效率B > 100)].index,inplace=True)\n",
    "    df.drop(df[(df.转换效率C > 100)].index,inplace=True)\n",
    "    df.drop(df[(df.风向 > 360)].index,inplace=True)\n",
    "    df.drop(df[(df.风速 > 20)].index,inplace=True)\n",
    "    return df\n",
    "def cal_score(mse):\n",
    "    if isinstance(mse, float):\n",
    "        return 1 / (1 + math.sqrt(mse))\n",
    "    else:\n",
    "        return np.divide(1, 1 + np.sqrt(mse))\n",
    "#滤波函数处理\n",
    "def del_data_byhand_two(array):\n",
    "#     return signal.medfilt(array, kernel_size=5) \n",
    "    array_std = array.std()\n",
    "    array_mean = array.mean()\n",
    "    array_max = array.max()\n",
    "    array_min = array.min()\n",
    "    array_std_x = np.dot(array_std,1)\n",
    "    # std_max= np.dot((array1_max-array1_mean),0.25)+array1_mean\n",
    "    # std_min = array1_mean-np.dot((array1_mean-array1_min),0.25)\n",
    "    std_max = array.mean()+array_std_x\n",
    "    std_min = array.mean()-array_std_x\n",
    "    for i in range(len(array)):\n",
    "        if i>0 and i<len(array):\n",
    "            if array[i]>std_max or array[i]<std_min:\n",
    "                array[i] = np.divide((array[i-1]+array[i-1]),2)\n",
    "    return array\n",
    "# 展示数据的均值，最大值，最小值，标准差\n",
    "def describe_array(array,string):\n",
    "    print(\"------描述数组%s的特性-------\"%string)\n",
    "    print(\"array.mean()\",array.mean())\n",
    "    print(\"array.max()\",array.max())\n",
    "    print(\"array.min()\",array.min())\n",
    "    print(\"array.std()\",array.std())\n",
    "# 手动处理数据    \n",
    "def del_data_byhand_one(array):\n",
    "    array_front_mean = array[:4000].mean()\n",
    "    array_front_std = array[:4000].std()\n",
    "    array_front_max = array[:4000].max()\n",
    "    array_front_min = array[:4000].min()\n",
    "    array_behind_mean = array[4000:].mean()\n",
    "    array_behind_std = array[4000:].std()\n",
    "    array_behind_max = array[4000:].max()\n",
    "    array_behind_min = array[4000:].min()\n",
    "    std_max_front = array_front_mean+array_front_std\n",
    "    std_min_front = array_front_mean-array_front_std\n",
    "    std_max_behind = array_behind_mean+array_behind_std\n",
    "    std_min_behind = array_behind_mean-array_behind_std\n",
    "    for i in range(len(array)):\n",
    "        if i>0 and i<len(array):\n",
    "            if i<=4000:\n",
    "                if array[i]>std_max_front or array[i]<std_min_front:\n",
    "                    array[i] = np.divide((array[i-1]+array[i-1]),2)\n",
    "            if i>4000:\n",
    "                if array[i]>std_max_behind or array[i]<std_min_behind:\n",
    "                    array[i] = np.divide((array[i-1]+array[i-1]),2)\n",
    "    return array\n",
    "\n",
    "def del_data_singal(array,n):#scipy.signal.medfilt(volume, kernel_size=None)   data = scipy.signal.medfilt(array, kernel_size=3)\n",
    "    for i in range(n):\n",
    "        data = signal.medfilt(array, kernel_size=3)\n",
    "        array = data\n",
    "    return array\n",
    "def cal_dif(array1,array2):\n",
    "    return np.subtract(array1,array2)\n",
    "def add_columns(train_data_X,n):\n",
    "#     X_columns_len = len(array_need)\n",
    "    X_columns = np.array(train_data_X.columns).reshape(1,n)\n",
    "    for num in range(n):\n",
    "        array = np.array(train_data_X[X_columns[0,num]])                \n",
    "        array1 = array\n",
    "        array2 = del_data_byhand_one(array)\n",
    "        array_del = del_data_singal(array2,3)\n",
    "        array3 = array2-array_del\n",
    "        string = X_columns[0,num]+'del'\n",
    "#         print(string)\n",
    "        train_data_X[string] = array3\n",
    "    return train_data_X\n",
    "# def add_columns(train_data_X,n):\n",
    "#     X_columns = np.array(train_data_X.columns).reshape(1,X_columns_len)\n",
    "#     for num in np.arange(19):\n",
    "#         array = np.array(train_data[X_columns[0,num]])                \n",
    "#         array1 = array\n",
    "#         array2 = del_data_byhand_one(array)\n",
    "#         array_del = del_data_singal(array2,3)\n",
    "#         array3 = array2-array_del\n",
    "#         string = X_columns[0,num]+'del'\n",
    "#         print(string)\n",
    "#         train_data_X[string] = array3\n",
    "#     return train_data_X\n",
    "def load_data():    \n",
    "    print (\"============================读取数据========================\")\n",
    "    print (\"======================我是萌萌哒分界线========================\")\n",
    "    train_data = pd.read_csv('./data/public.train.csv')\n",
    "    test_data = pd.read_csv('./data/public.test.csv')\n",
    "    submit = pd.read_csv('./data/submit_example.csv')\n",
    "    train_data_y = train_data['发电量']\n",
    "    train_data_X = train_data.drop(['ID','发电量'], axis=1)\n",
    "    test_data_X = train_data.drop(['ID'], axis=1)\n",
    "    return train_data_X,train_data_y,test_data_X"
   ]
  },
  {
   "cell_type": "markdown",
   "metadata": {},
   "source": [
    "## version2"
   ]
  },
  {
   "cell_type": "code",
   "execution_count": 20,
   "metadata": {},
   "outputs": [
    {
     "name": "stdout",
     "output_type": "stream",
     "text": [
      "============================读取数据========================\n",
      "mes: 0.1557159566781557\n"
     ]
    }
   ],
   "source": [
    "import numpy as np\n",
    "#coding=utf-8\n",
    "#读取数据\n",
    "import lightgbm as lgb \n",
    "import  pandas as pd\n",
    "import numpy as np\n",
    "import scipy as sp\n",
    "from sklearn.model_selection import train_test_split\n",
    "from sklearn.ensemble import RandomForestClassifier\n",
    "def load_data():    \n",
    "    print (\"============================读取数据========================\")\n",
    "    train_data = pd.read_csv('./data/public.train.csv')\n",
    "    test_data = pd.read_csv('./data/public.test.csv')\n",
    "    submit = pd.read_csv('./data/submit_example.csv')\n",
    "    train_data_y = train_data['发电量']\n",
    "    train_data_X = train_data.drop(['ID','发电量'], axis=1)\n",
    "    test_data_X = train_data.drop(['ID'], axis=1)\n",
    "    return train_data_X,train_data_y,test_data_X\n",
    "train_data_X,train_data_y,test_data_X = load_data()\n",
    "   \n",
    "# array_need = np.arange(19)\n",
    "train_data_X = add_columns(train_data_X,19)\n",
    "# train_data_X.columns\n",
    "#------------------------------\n",
    "\n",
    "# #--------------------------\n",
    "# train_data = pd.read_csv('./data/public.train.csv')\n",
    "# test_data = pd.read_csv('./data/public.test.csv')\n",
    "# y_train = train_data['发电量']\n",
    "# # X_train = train_data.drop(['发电量','ID'], axis=1)\n",
    "X_train, X_test, y_train, y_test = train_test_split(train_data_X, train_data_y, \n",
    "                                                    test_size=0.3, \n",
    "                                                    random_state=123, \n",
    "                                                   )\n",
    "estimator = lgb.LGBMRegressor(boosting_type='gbdt',\n",
    "                               n_estimators=300,\n",
    "                               silent=True,\n",
    "                               learning_rate=0.1,\n",
    "                              max_depth=3,)\n",
    "estimator.fit(X_train,y_train)\n",
    "pred = estimator.predict(X_test)\n",
    "mes = math.sqrt(mean_squared_error(y_test, pred))\n",
    "print (\"mes:\",mes)\n",
    "\n",
    "#----------------------------------"
   ]
  },
  {
   "cell_type": "code",
   "execution_count": 4,
   "metadata": {},
   "outputs": [
    {
     "data": {
      "text/plain": [
       "'string'"
      ]
     },
     "execution_count": 4,
     "metadata": {},
     "output_type": "execute_result"
    }
   ],
   "source": [
    "string = 'str'+'ing'\n",
    "string"
   ]
  },
  {
   "cell_type": "code",
   "execution_count": null,
   "metadata": {},
   "outputs": [],
   "source": []
  },
  {
   "cell_type": "markdown",
   "metadata": {},
   "source": [
    "## version1"
   ]
  },
  {
   "cell_type": "code",
   "execution_count": 281,
   "metadata": {},
   "outputs": [
    {
     "name": "stdout",
     "output_type": "stream",
     "text": [
      "[-17.4 -17.3 -17.  ...  24.9  25.2   0.1]\n",
      "mes: 0.14880052412923137\n"
     ]
    }
   ],
   "source": [
    "import numpy as np\n",
    "#coding=utf-8\n",
    "#读取数据\n",
    "import lightgbm as lgb \n",
    "import  pandas as pd\n",
    "import numpy as np\n",
    "import scipy as sp\n",
    "from sklearn.model_selection import train_test_split\n",
    "train_data = pd.read_csv('./data/public.train.csv')\n",
    "test_data = pd.read_csv('./data/public.test.csv')\n",
    "submit = pd.read_csv('./data/submit_example.csv')\n",
    "train_data_y = train_data['发电量']\n",
    "train_data_X = train_data.drop(['ID','发电量'], axis=1)\n",
    "# test_data_X = train_data.drop(['ID'], axis=1)\n",
    "\n",
    "X_columns_len = np.array(train_data_X.columns).shape[0]\n",
    "X_columns = np.array(train_data_X.columns).reshape(1,X_columns_len)\n",
    "array = np.array(train_data[X_columns[0,1]])         \n",
    "print(array)        \n",
    "array1 = array\n",
    "array2 = del_data_byhand(array)\n",
    "array_del = del_data_singal(array2,3)\n",
    "# print(type(array_del))\n",
    "array3 = array2-array_del\n",
    "train_data_X[\"板温_del\"] = array3\n",
    "\n",
    "#--------------------------\n",
    "# train_data = pd.read_csv('./data/public.train.csv')\n",
    "# test_data = pd.read_csv('./data/public.test.csv')\n",
    "# y_train = train_data['发电量']\n",
    "# X_train = train_data.drop(['发电量','ID'], axis=1)\n",
    "X_train, X_test, y_train, y_test = train_test_split(train_data_X, train_data_y, \n",
    "                                                    test_size=0.3, \n",
    "                                                    random_state=123, \n",
    "                                                   )\n",
    "estimator = lgb.LGBMRegressor(boosting_type='gbdt',\n",
    "                               n_estimators=300,\n",
    "                               silent=True,\n",
    "                               learning_rate=0.1,\n",
    "                              max_depth=3,)\n",
    "estimator.fit(X_train,y_train)\n",
    "pred = estimator.predict(X_test)\n",
    "mes = math.sqrt(mean_squared_error(y_test, pred))\n",
    "print (\"mes:\",mes)\n",
    "\n",
    "#----------------------------------\n",
    "\n",
    "\n",
    "\n",
    "# X_test_columns_len = np.array(test_data_X.columns).shape[0]\n",
    "# X_test_columns = np.array(test_data_X.columns).reshape(1,X_test_columns_len)\n",
    "\n",
    "# test_array = np.array(test_data_X[X_test_columns[0,1]])         \n",
    "# print(test_array)        \n",
    "# test_array1 = test_array\n",
    "# test_array2 = del_data_byhand(test_array)\n",
    "# test_array_del = del_data_singal(test_array2,3)\n",
    "# # print(type(array_del))\n",
    "# test_array3 = test_array2-test_array_del\n",
    "# test_data_X[\"板温_del\"] = test_array3\n",
    "\n",
    "# X_train, X_test, y_train, y_test = train_test_split(X_train, y_train, \n",
    "#                                                     test_size=0.3, \n",
    "#                                                     random_state=123, \n",
    "#                                                    )\n",
    "# estimator.fit(X_train,y_train)\n",
    "# pred = estimator.predict(y_train)\n",
    "# mes = math.sqrt(mean_squared_error(y_test, pred))\n",
    "# print (\"mes:\",mes)\n",
    "\n",
    "# import matplotlib.pyplot as plt\n",
    "# plt_X = np.arange(train_data[X_columns[0,1]].shape[0])\n",
    "# plt.subplot(3, 1, 1)\n",
    "# plt.plot(plt_X,array1)\n",
    "# # plt.ylabel('Field temperature')\n",
    "# #设置坐标轴范围\n",
    "# # plt.xlim((2000, 2050))\n",
    "# # plt.ylim((-2, 2))\n",
    "# plt.subplot(3, 1, 2)\n",
    "# plt.plot(plt_X,array2)\n",
    "# plt.subplot(3, 1, 3)\n",
    "# plt.plot(plt_X,array3)\n",
    "\n",
    "# plt.show()    \n"
   ]
  },
  {
   "cell_type": "markdown",
   "metadata": {},
   "source": [
    "### mes: 0.14943249830611205"
   ]
  },
  {
   "cell_type": "code",
   "execution_count": 150,
   "metadata": {},
   "outputs": [
    {
     "data": {
      "text/plain": [
       "2.5"
      ]
     },
     "execution_count": 150,
     "metadata": {},
     "output_type": "execute_result"
    }
   ],
   "source": [
    "np.divide(5,2)"
   ]
  },
  {
   "cell_type": "code",
   "execution_count": 216,
   "metadata": {},
   "outputs": [
    {
     "data": {
      "image/png": "[encoded data removed]",
      "text/plain": [
       "<Figure size 432x288 with 2 Axes>"
      ]
     },
     "metadata": {},
     "output_type": "display_data"
    }
   ],
   "source": [
    "import matplotlib.pyplot as plt\n",
    "plt_X = np.arange(train_data[X_columns[0,1]].shape[0])\n",
    "plt.subplot(2, 1, 1)\n",
    "plt.plot(plt_X,array1copy)\n",
    "# plt.ylabel('Field temperature')\n",
    "#设置坐标轴范围\n",
    "# plt.xlim((2000, 2050))\n",
    "# plt.ylim((-2, 2))\n",
    "# plt.ylim((-5, 5))\n",
    "plt.subplot(2, 1, 2)\n",
    "plt.plot(plt_X,array1)\n",
    "# plt.xlim((2000, 2050))\n",
    "# plt.ylim((-5, 5))\n",
    "\n",
    "plt.show()"
   ]
  },
  {
   "cell_type": "code",
   "execution_count": 128,
   "metadata": {},
   "outputs": [
    {
     "data": {
      "image/png": "[encoded data removed]",
      "text/plain": [
       "<Figure size 432x288 with 3 Axes>"
      ]
     },
     "metadata": {},
     "output_type": "display_data"
    }
   ],
   "source": [
    "import matplotlib.pyplot as plt\n",
    "plt_X = np.arange(train_data[X_columns[0,1]].shape[0])\n",
    "array3 = array1-array2\n",
    "plt.subplot(3, 1, 1)\n",
    "plt.plot(plt_X,array1)\n",
    "# plt.ylabel('Field temperature')\n",
    "#设置坐标轴范围\n",
    "# plt.xlim((5889, 5892))\n",
    "# plt.ylim((-2, 2))\n",
    "plt.subplot(3, 1, 2)\n",
    "plt.plot(plt_X,array2)\n",
    "plt.subplot(3, 1, 3)\n",
    "plt.plot(plt_X,array3)\n",
    "plt.show()"
   ]
  },
  {
   "cell_type": "code",
   "execution_count": 88,
   "metadata": {},
   "outputs": [
    {
     "name": "stdout",
     "output_type": "stream",
     "text": [
      "<class 'list'>\n",
      "[14. 19. 19. 59. 59. 50. 34. 50. 34. 34. 34. 34. 36. 36. 39. 59. 65. 65.\n",
      " 65. 35. 16. 16. 81. 81. 79. 71. 54. 52. 25.  6.]\n"
     ]
    }
   ],
   "source": [
    "import random\n",
    "import numpy as np\n",
    "import scipy\n",
    "# def random_int_list(start, stop, length):\n",
    "#     start, stop = (int(start), int(stop)) if start <= stop else (int(stop), int(start))\n",
    "#     length = int(abs(length)) if length else 0\n",
    "#     random_list = []\n",
    "#     for i in range(length):\n",
    "#         random_list.append(random.randint(start, stop))\n",
    "#     return random_list\n",
    "# random_list = np.array(random_int_list(1,100,10))\n",
    "# print(random_list)\n",
    "# data = del_data_signal(random_list)\n",
    "# print(data)\n",
    "# import numpy as np\n",
    "# df = np.arange(100,0)\n",
    "# df\n",
    "# array = np.random.randint(1, high=100, size=30, dtype=np.int32)\n",
    "# print(array)\n",
    "# # data = del_data_signal(array)\n",
    "array = [40, 14, 19, 59, 89,  5, 50, 34, 61, 16, 34, 45, 24, 36, 39, 59, 87, 65, 35, 74, 7, 16, 81, 85, 79, 71, 54, 52, 25, 6]\n",
    "print(type(array))\n",
    "# scipy.signal.medfilt(volume, kernel_size=None)\n",
    "data = scipy.signal.medfilt(array, kernel_size=3)\n",
    "print(data)"
   ]
  },
  {
   "cell_type": "code",
   "execution_count": 45,
   "metadata": {},
   "outputs": [
    {
     "data": {
      "text/plain": [
       "(9000,)"
      ]
     },
     "execution_count": 45,
     "metadata": {},
     "output_type": "execute_result"
    }
   ],
   "source": [
    "# train_data[X_columns[0,1]] \n",
    "train_data[X_columns[0,1]].shape"
   ]
  },
  {
   "cell_type": "code",
   "execution_count": 40,
   "metadata": {},
   "outputs": [
    {
     "data": {
      "text/plain": [
       "'光照强度'"
      ]
     },
     "execution_count": 40,
     "metadata": {},
     "output_type": "execute_result"
    }
   ],
   "source": [
    "for id in np.arange(X_columns_len):\n",
    "        deal_column = train_data[X_columns[0,id]]      \n",
    "X_columns[0,2]"
   ]
  },
  {
   "cell_type": "code",
   "execution_count": null,
   "metadata": {},
   "outputs": [],
   "source": []
  },
  {
   "cell_type": "code",
   "execution_count": null,
   "metadata": {},
   "outputs": [],
   "source": []
  }
 ],
 "metadata": {
  "kernelspec": {
   "display_name": "Python 3",
   "language": "python",
   "name": "python3"
  },
  "language_info": {
   "codemirror_mode": {
    "name": "ipython",
    "version": 3
   },
   "file_extension": ".py",
   "mimetype": "text/x-python",
   "name": "python",
   "nbconvert_exporter": "python",
   "pygments_lexer": "ipython3",
   "version": "3.6.4"
  }
 },
 "nbformat": 4,
 "nbformat_minor": 2
}
